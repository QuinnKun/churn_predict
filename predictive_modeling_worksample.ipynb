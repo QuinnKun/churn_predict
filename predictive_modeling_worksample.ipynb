{
 "cells": [
  {
   "cell_type": "markdown",
   "metadata": {},
   "source": [
    "# Churned Users Modelling\n",
    "\n",
    "\n",
    "The output of a predictive churn model is a measure of the immediate or future risk of a customer cancellation,in this case whether the customer will withdraw money from their account\n",
    "\n",
    "*use cases*\n",
    "- to understand why customers are leaving \n",
    "- to provide incentives to certain customers to prevent them from leaving\n",
    "- predicting the revenue of the business\n",
    "\n",
    "## a) Churned percentage\n",
    "A user is considered churned when their account balance falls below $10 for 28 consecutive calendar days\n",
    "\n",
    "**Dataset** \n",
    "\n",
    "equity_value_data: only users when account balance >=$10\n",
    "\n",
    "**Limitation and Assumptions 1: observation window** \n",
    "\n",
    "User can churn and reactivate. Tenured users are more likely to churn and reactivate, while new users , since the observation window is short, there is not enough time for them to reactivate after churn.\n",
    "\n",
    "For this 1-year  truncated data, we don't know the first active day of each user, therefore each user has a different observation window. Take an extreme case, all users boarded within 27 days from last day of the truncated data (e.g. onboard in Aug 2017)will be defined as no-churn, which is unfair for those users boarded in Aug 2016.\n",
    "\n",
    "Assume the boarded date is the first record in equity_value_data. We can see 99.5% of users were boarded in and before Mar 2017, which gives at least 4 months observation window to define churn (maintaining low balance for 28 days). The 4 users boarded in Aug 2017 and 7 users boarded in Jul 2017 do not have a 28- day observation window. Total 11 accounts have a minimum impact on overall churn rate.\n",
    "\n",
    "**Limitation and Assumptions 2: churn and reactivate** \n",
    "\n",
    "If a user once churn and reactivate, the definition is not clear.\n",
    "There are two ways to simplify it:\n",
    "\n",
    "- a) as long as the user once churned, the user is considered as churned\n",
    "\n",
    "- b) only if the user has been deactivated for 28 days as of the most recent day, which is the next day of latest date in data (Aug 19, 2018), the user is considered as churned\n",
    "\n",
    "There are in total 5,584 users in the data.\n",
    "\n",
    "**By definition a**:\n",
    "There are 1,007 users who have churned history, the rest 4,577 users have never deactivated for >=28 days.\n",
    "\n",
    "- **churn rate = 1007/5584 =18.03%**\n",
    "\n",
    "**By definition b**:\n",
    "There are 813 users who are churned as of Aug 19, 2018, the rest 4771 are active as of Aug 19, 2018, although they may have been churned before, but now they are active. \n",
    "\n",
    "- **churn rate = 813 /5584 =14.56%**\n",
    "\n",
    "The difference of 194 accounts (20% of total users with churned history) is really the gray area.\n",
    "\n",
    "**definition a** is not perfect , because users can be churned for many other reasons (for example promotions by competitors) but they will come back and continue doing transactions. Therefore from a business point of view they are not churned.\n",
    "\n",
    "**definition b** solved the problem that if a user churned but returned, we won't count it as churned .  However it is not a perfect solution either, because tenured users(10-12months) have unfair comparison than new users(5-9 months) because maybe those  new users(5-9 months)  will be churned in a couple of months later. \n",
    "\n",
    "For simple purpose, let us go for definition a, the churn rate is 18.03%\n",
    "\n",
    "## b) Classifier  \n",
    "**Final model used simple logistic regression with woe transformation without regularization**  \n",
    "\n",
    "Other benchmark models used here is \n",
    "1. Logistic regression with regularization\n",
    "2. Decision Tree\n",
    "3. Neural Network\n",
    "\n",
    "\n",
    "- Usually model performance ranking is  GBM > random forest> BAGGING / Neural NetWork  > Logistic >Decision Tree\n",
    "- **Since the purpose of this project is to understand why users churn, for simplicity and explanatory, I won't choose GBM or random forest as the classifier,and I will use decision tree and logistic regression for classification. At the same time, I will use neural network as benchmark**   \n",
    "- **Since logistic performance is similar to neural network, and better than decision tree, logistic regression is my final model**\n",
    "\n",
    "**function used**\n",
    "- Data visualization\n",
    "- WOE transformation\n",
    "- Grid search / cross validation\n",
    "- OneHotEncoder\n",
    "- log transformation\n",
    "\n",
    "\n",
    "**performance metrics AUC and KS**\n",
    "\n",
    "|                            | AUC      | KS       |\n",
    "| :-------------------------:| :------: | :------: |\n",
    "| LogisticRegression         | 0.6866   | 0.2970   |\n",
    "| DecisionTree + GridSearch  | 0.6304   | 0.2004   |\n",
    "| NeuralNetwork + GridSearch | 0.6888   | 0.2891   |\n",
    "\n",
    "- Best classifier : LogisticRegression \n",
    "- **train_data_reg.probability** and **test_data_reg.probability** are the assigned probability in **Cell 58** in below jupyter notebook  \n",
    "- If probability is **>= 0.204129**, it is predicted as **churned**  \n",
    "- This probability has **max separation power between churned and non-churned (max KS in training sample)**\n",
    "- This probability can **capture 56% churned users** in test sample (true positive rate /recall), impacting **32% of non-churned users**(false positive rate/ 1- specificity)\n",
    "- **train_data_out.csv** and **test_data_out.csv** are files containing assigned probability and predicted churned indicator  \n",
    "\n",
    "\n",
    "\n",
    "## c) Feature importance\n",
    "\n",
    "### There are 6 catagorical variables and 2 numerical variables and the trend summary is as below:  \n",
    "\n",
    "**1. risk_tolerance**: lower risk tolerance, higher churn rate  \n",
    "**2. investment_experience**: no expeience, higher churn rate  \n",
    "**3. liquidity_needs**: somewhat > no_important > very_important  \n",
    "**4. platform**: android > ios > both  \n",
    "**5. instrument_type_first_traded**:  mlp(20% churn rate) > stock(18.5%) >reit(16%) >adr(14%)>etp (13%)  \n",
    "**6. time_horizon**: short time > long or med time  \n",
    "**7. time_spent**: higher time spent, higher churn  \n",
    "**8. first_deposit_amount**: lower deposit, higher churn rate  \n",
    "\n",
    "\n",
    "|Importance Ranking| LogisticRegression         | Decision Tree              |GradientBoosting           |\n",
    "| :---------------:| :------------------------: | :------------------------: |:------------------------: |\n",
    "| 1                | first_deposit_amount       | first_deposit_amount       |time_spent                 |\n",
    "| 2                | time_spent                 | time_spent                 |first_deposit_amount       |\n",
    "| 3                | risk_tolerance             | time_horizon               |risk_tolerance             |\n",
    "| 4                | time_horizon               | risk_tolerance             |time_horizon               |\n",
    "| 5                | liquidity_needs            | instrument                 |instrument                 |\n",
    "| 6                | instrument(drop)           | liquidity_needs(drop)      |liquidity_needs            |\n",
    "| 7                | investment_experience(drop)| investment_experience(drop)|platform(drop)             |\n",
    "| 8                | platform   (drop)          | platform(drop)             |investment_experience(drop)|\n",
    "\n",
    "**Note:(drop) means statistically insignificant in above table**  \n",
    "\n",
    "**In Summary**,\n",
    "1. first_deposit_amount and time_spent are very important\n",
    "2. risk_tolerance, time horizon and liquidity_needs are important\n",
    "3. instrument itself is not predictive, some levels e.g. \"reit\" are important to some extent, however the sample size is very small, so we cannot really tell \n",
    "4. investment_experience and platform are not correlated to churn, which is consistent across all analyzing method (Information value analysis, Logistic regression, Tree-based method)  \n",
    "\n",
    "\n"
   ]
  },
  {
   "cell_type": "markdown",
   "metadata": {},
   "source": [
    "### Load equity_value_data and define churn"
   ]
  },
  {
   "cell_type": "code",
   "execution_count": 1,
   "metadata": {},
   "outputs": [],
   "source": [
    "import numpy as np\n",
    "import pandas as pd\n",
    "import matplotlib.pyplot as plt\n",
    "%matplotlib inline\n",
    "plt.style.use('ggplot')\n",
    "churn = pd.read_csv(\"equity_value_data.csv\")"
   ]
  },
  {
   "cell_type": "markdown",
   "metadata": {},
   "source": [
    "### Data quality"
   ]
  },
  {
   "cell_type": "code",
   "execution_count": 2,
   "metadata": {},
   "outputs": [
    {
     "name": "stdout",
     "output_type": "stream",
     "text": [
      "timestamp       0\n",
      "close_equity    0\n",
      "user_id         0\n",
      "dtype: int64\n",
      "10.0\n",
      "2016-08-16 00:00:00+00:00\n",
      "2017-08-18 00:00:00+00:00\n"
     ]
    },
    {
     "data": {
      "image/png": "[encoded data removed]",
      "text/plain": [
       "<Figure size 432x288 with 1 Axes>"
      ]
     },
     "metadata": {
      "needs_background": "light"
     },
     "output_type": "display_data"
    }
   ],
   "source": [
    "pd.to_datetime(churn.timestamp).value_counts().plot()\n",
    "print(churn.isnull().sum()) \n",
    "print(churn.close_equity.min()) \n",
    "print(pd.to_datetime(churn.timestamp).min()) \n",
    "print(pd.to_datetime(churn.timestamp).max()) "
   ]
  },
  {
   "cell_type": "markdown",
   "metadata": {},
   "source": [
    "- Even if for the first two days and last two days , the number of active users are extremely low and seems abnormal, it will have minimal impact on churn rate estimation\n",
    "- There is no null value"
   ]
  },
  {
   "cell_type": "code",
   "execution_count": 3,
   "metadata": {},
   "outputs": [
    {
     "name": "stderr",
     "output_type": "stream",
     "text": [
      "/Users/makun/anaconda3/lib/python3.7/site-packages/pandas/core/arrays/datetimes.py:1172: UserWarning: Converting to PeriodArray/Index representation will drop timezone information.\n",
      "  \"will drop timezone information.\", UserWarning)\n",
      "/Users/makun/anaconda3/lib/python3.7/site-packages/pandas/core/arrays/datetimes.py:1172: UserWarning: Converting to PeriodArray/Index representation will drop timezone information.\n",
      "  \"will drop timezone information.\", UserWarning)\n"
     ]
    },
    {
     "name": "stdout",
     "output_type": "stream",
     "text": [
      "2016-08    3335\n",
      "2016-09     252\n",
      "2016-10     242\n",
      "2016-11     307\n",
      "2016-12     276\n",
      "2017-01     452\n",
      "2017-02     535\n",
      "2017-03     162\n",
      "2017-04       2\n",
      "2017-05       7\n",
      "2017-06       3\n",
      "2017-07       7\n",
      "2017-08       4\n",
      "Freq: M, Name: (timestamp, min), dtype: int64\n"
     ]
    },
    {
     "data": {
      "image/png": "[encoded data removed]",
      "text/plain": [
       "<Figure size 432x288 with 1 Axes>"
      ]
     },
     "metadata": {
      "needs_background": "light"
     },
     "output_type": "display_data"
    }
   ],
   "source": [
    "grouped = churn.groupby(['user_id']).agg({'timestamp':['min']}).reset_index()\n",
    "grouped.sort_values([('timestamp', 'min')], ascending=True)\n",
    "pd.to_datetime(grouped[('timestamp', 'min')]  ).dt.to_period('M').value_counts().sort_index().plot()\n",
    "print(pd.to_datetime(grouped[('timestamp', 'min')]  ).dt.to_period('M').value_counts().sort_index())\n"
   ]
  },
  {
   "cell_type": "markdown",
   "metadata": {},
   "source": [
    "- We can see 99.5% of users were boarded in and before Mar 2017, which gives at least 4 months of observation window to define churn (maintaining low balance for 28 days). The 4 users boarded in Aug 2017 and 7 users boarded in Jul 2017 do not have a 28- day observation window. The total 11 accounts have a minimum impact on overall churn rate"
   ]
  },
  {
   "cell_type": "markdown",
   "metadata": {},
   "source": [
    "### Define churn\n",
    "when their account balance falls below $10 for 28 consecutive calendar days"
   ]
  },
  {
   "cell_type": "code",
   "execution_count": 4,
   "metadata": {},
   "outputs": [
    {
     "name": "stderr",
     "output_type": "stream",
     "text": [
      "/Users/makun/anaconda3/lib/python3.7/site-packages/ipykernel_launcher.py:6: UserWarning: Pandas doesn't allow columns to be created via a new attribute name - see https://pandas.pydata.org/pandas-docs/stable/indexing.html#attribute-access\n",
      "  \n"
     ]
    },
    {
     "name": "stdout",
     "output_type": "stream",
     "text": [
      "0    4577\n",
      "1    1007\n",
      "Name: churn_ind1, dtype: int64\n"
     ]
    }
   ],
   "source": [
    "from datetime import datetime, timedelta\n",
    "churn['next_timestamp'] = churn.sort_values(by=['timestamp'], ascending=True)\\\n",
    "                       .groupby(['user_id'])['timestamp'].shift(-1)   \n",
    "\n",
    "churn.next_timestamp_fillna  = churn.next_timestamp.fillna(value=  \n",
    "     (pd.to_datetime(churn.timestamp.max())+  timedelta(days=1)))\n",
    "                                                                       \n",
    "churn['churn_days'] = pd.to_datetime(churn.next_timestamp_fillna,utc=True ) - pd.to_datetime(churn.timestamp,utc=True )\n",
    "\n",
    "churn['churn_status']= churn.churn_days.map(lambda x:\"churn\" if x.days>=28 else \"stay\")\n",
    "\n",
    "user_churn =pd.crosstab(churn.user_id,churn.churn_status).rename_axis('user_id').reset_index()\n",
    "user_churn['sum1'] = user_churn.sum(1)\n",
    "user_churn[\"churn_ind1\"]=user_churn.churn.map(lambda x: 0 if x==0 else 1)\n",
    "\n",
    "print(user_churn.churn_ind1.value_counts() ) "
   ]
  },
  {
   "cell_type": "code",
   "execution_count": 5,
   "metadata": {},
   "outputs": [
    {
     "name": "stdout",
     "output_type": "stream",
     "text": [
      "0    4771\n",
      "1     813\n",
      "Name: churn_ind1, dtype: int64\n"
     ]
    },
    {
     "name": "stderr",
     "output_type": "stream",
     "text": [
      "/Users/makun/anaconda3/lib/python3.7/site-packages/ipykernel_launcher.py:2: SettingWithCopyWarning: \n",
      "A value is trying to be set on a copy of a slice from a DataFrame.\n",
      "Try using .loc[row_indexer,col_indexer] = value instead\n",
      "\n",
      "See the caveats in the documentation: http://pandas.pydata.org/pandas-docs/stable/indexing.html#indexing-view-versus-copy\n",
      "  \n"
     ]
    }
   ],
   "source": [
    "churn_last  =churn[churn.next_timestamp.isnull()]\n",
    "churn_last['churn_most']  =churn_last.timestamp.map(lambda x: \"churn\" \n",
    "                        if pd.to_datetime(x)<=(pd.to_datetime('2017-08-18T00:00:00Z') -   timedelta(days=27))\n",
    "                                               else \"active\")\n",
    "churn_df =pd.crosstab(churn_last.user_id,churn_last.churn_most).rename_axis('user_id').reset_index()\n",
    "churn_df['sum1'] = churn_df.sum(1)\n",
    "churn_df[\"churn_ind1\"]=churn_df.churn.map(lambda x: 0 if x==0 else 1)\n",
    "print(churn_df.churn_ind1.value_counts() )  \n"
   ]
  },
  {
   "cell_type": "code",
   "execution_count": 6,
   "metadata": {},
   "outputs": [
    {
     "data": {
      "text/html": [
       "<div>\n",
       "<style scoped>\n",
       "    .dataframe tbody tr th:only-of-type {\n",
       "        vertical-align: middle;\n",
       "    }\n",
       "\n",
       "    .dataframe tbody tr th {\n",
       "        vertical-align: top;\n",
       "    }\n",
       "\n",
       "    .dataframe thead th {\n",
       "        text-align: right;\n",
       "    }\n",
       "</style>\n",
       "<table border=\"1\" class=\"dataframe\">\n",
       "  <thead>\n",
       "    <tr style=\"text-align: right;\">\n",
       "      <th>churn_ind1</th>\n",
       "      <th>0</th>\n",
       "      <th>1</th>\n",
       "      <th>sum1</th>\n",
       "    </tr>\n",
       "    <tr>\n",
       "      <th>churn_ind1_alay</th>\n",
       "      <th></th>\n",
       "      <th></th>\n",
       "      <th></th>\n",
       "    </tr>\n",
       "  </thead>\n",
       "  <tbody>\n",
       "    <tr>\n",
       "      <th>0</th>\n",
       "      <td>4577</td>\n",
       "      <td>0</td>\n",
       "      <td>4577</td>\n",
       "    </tr>\n",
       "    <tr>\n",
       "      <th>1</th>\n",
       "      <td>194</td>\n",
       "      <td>813</td>\n",
       "      <td>1007</td>\n",
       "    </tr>\n",
       "  </tbody>\n",
       "</table>\n",
       "</div>"
      ],
      "text/plain": [
       "churn_ind1          0    1  sum1\n",
       "churn_ind1_alay                 \n",
       "0                4577    0  4577\n",
       "1                 194  813  1007"
      ]
     },
     "execution_count": 6,
     "metadata": {},
     "output_type": "execute_result"
    }
   ],
   "source": [
    "df = user_churn[[\"user_id\",\"churn_ind1\" ]].rename(columns={'churn_ind1': 'churn_ind1_alay'})\n",
    "df = df.join(churn_df[[\"user_id\",\"churn_ind1\"]].set_index('user_id'), on='user_id')\n",
    "swap_df =pd.crosstab(df[\"churn_ind1_alay\"],df[\"churn_ind1\"]) \n",
    "swap_df['sum1'] = swap_df.sum(1)\n",
    "swap_df\n",
    " "
   ]
  },
  {
   "cell_type": "markdown",
   "metadata": {},
   "source": [
    "There are in total 5,584 users in the data.\n",
    "\n",
    "**By definition a**:\n",
    "There are 1,007 users who have churned history, the rest 4,577 users have never deactivated for >=28 days.\n",
    "\n",
    "- churn rate = 1007/5584 =18.03%\n",
    "\n",
    "**By definition b**:\n",
    "There are 813 users who are churned as of Aug 19, 2018, the rest 4771 are active as of Aug 19, 2018, although they may have been churned before, but now they are active. \n",
    "\n",
    "- churn rate = 813 /5584 =14.56%\n",
    "\n",
    "The difference of 194 accounts (20% of total users) is really the gray area.\n",
    "\n",
    "**definition a** is not perfect , because users can be churned for many other reasons (for example promotions by competitors) but they will come back and continue doing transactions. Therefore from a business point of view they are not churned.\n",
    "\n",
    "**definition b** solved the problem that if a user churned but returned, we won't count it as churned .  However it is not a perfect solution either, because tenured users(10-12months) have unfair comparison than new users(5-9 months) because maybe those  new users(5-9 months)  will be churned in a couple of months later. \n",
    "\n",
    "For simple purpose, let us go for definition a, the churn rate is 18.03%\n"
   ]
  },
  {
   "cell_type": "markdown",
   "metadata": {},
   "source": [
    "## Load features_data and build classifier"
   ]
  },
  {
   "cell_type": "code",
   "execution_count": 7,
   "metadata": {},
   "outputs": [],
   "source": [
    "features = pd.read_csv(\"features_data.csv\" )"
   ]
  },
  {
   "cell_type": "code",
   "execution_count": 8,
   "metadata": {},
   "outputs": [
    {
     "name": "stdout",
     "output_type": "stream",
     "text": [
      "0    4577\n",
      "1    1007\n",
      "Name: churn_ind1, dtype: int64\n",
      "0\n"
     ]
    },
    {
     "data": {
      "text/plain": [
       "<matplotlib.axes._subplots.AxesSubplot at 0x7f924f5d1358>"
      ]
     },
     "execution_count": 8,
     "metadata": {},
     "output_type": "execute_result"
    },
    {
     "data": {
      "image/png": "[encoded data removed]",
      "text/plain": [
       "<Figure size 432x288 with 1 Axes>"
      ]
     },
     "metadata": {},
     "output_type": "display_data"
    }
   ],
   "source": [
    "data = user_churn\n",
    "data = data.join(features.set_index('user_id'), on='user_id', how ='outer')\n",
    "print(data.churn_ind1.value_counts() ) \n",
    "print(data.churn_ind1.isnull().sum())# there is no user_id not existing in the other table\n",
    "churn_flag = data['churn_ind1']\n",
    "data['churn_ind1'].value_counts().plot(kind='pie',autopct='%.2f%%')"
   ]
  },
  {
   "cell_type": "code",
   "execution_count": 9,
   "metadata": {},
   "outputs": [
    {
     "data": {
      "text/plain": [
       "user_id                         0\n",
       "churn                           0\n",
       "stay                            0\n",
       "sum1                            0\n",
       "churn_ind1                      0\n",
       "risk_tolerance                  0\n",
       "investment_experience           0\n",
       "liquidity_needs                 0\n",
       "platform                        0\n",
       "time_spent                      0\n",
       "instrument_type_first_traded    0\n",
       "first_deposit_amount            0\n",
       "time_horizon                    0\n",
       "dtype: int64"
      ]
     },
     "execution_count": 9,
     "metadata": {},
     "output_type": "execute_result"
    }
   ],
   "source": [
    "data.isnull().sum()"
   ]
  },
  {
   "cell_type": "markdown",
   "metadata": {},
   "source": [
    "### Describetive Analysis / Visualization"
   ]
  },
  {
   "cell_type": "code",
   "execution_count": 10,
   "metadata": {},
   "outputs": [
    {
     "data": {
      "image/png": "[encoded data removed]",
      "text/plain": [
       "<Figure size 432x288 with 1 Axes>"
      ]
     },
     "metadata": {
      "needs_background": "light"
     },
     "output_type": "display_data"
    },
    {
     "data": {
      "image/png": "[encoded data removed]",
      "text/plain": [
       "<Figure size 432x288 with 1 Axes>"
      ]
     },
     "metadata": {
      "needs_background": "light"
     },
     "output_type": "display_data"
    },
    {
     "data": {
      "image/png": "[encoded data removed]",
      "text/plain": [
       "<Figure size 432x288 with 1 Axes>"
      ]
     },
     "metadata": {
      "needs_background": "light"
     },
     "output_type": "display_data"
    },
    {
     "data": {
      "image/png": "[encoded data removed]",
      "text/plain": [
       "<Figure size 432x288 with 1 Axes>"
      ]
     },
     "metadata": {
      "needs_background": "light"
     },
     "output_type": "display_data"
    },
    {
     "data": {
      "image/png": "[encoded data removed]",
      "text/plain": [
       "<Figure size 432x288 with 1 Axes>"
      ]
     },
     "metadata": {
      "needs_background": "light"
     },
     "output_type": "display_data"
    },
    {
     "data": {
      "image/png": "[encoded data removed]",
      "text/plain": [
       "<Figure size 432x288 with 1 Axes>"
      ]
     },
     "metadata": {
      "needs_background": "light"
     },
     "output_type": "display_data"
    }
   ],
   "source": [
    "data[\"churn_flag\"] = data['churn_ind1']\n",
    "from stack2dim import * \n",
    "stack2dim(data, i=\"risk_tolerance\", j=\"churn_flag\", rotation=45, location='lower left') \n",
    "stack2dim(data, i=\"investment_experience\", j=\"churn_flag\",rotation=90, location='lower left')\n",
    "stack2dim(data, i=\"liquidity_needs\", j=\"churn_flag\", rotation=90, location='lower left') \n",
    "stack2dim(data, i=\"platform\", j=\"churn_flag\",rotation=0, location='lower left')\n",
    "stack2dim(data, i=\"instrument_type_first_traded\", j=\"churn_flag\", rotation=90, location='lower left') \n",
    "stack2dim(data, i=\"time_horizon\", j=\"churn_flag\",rotation=45, location='lower left')\n"
   ]
  },
  {
   "cell_type": "code",
   "execution_count": 11,
   "metadata": {},
   "outputs": [
    {
     "name": "stderr",
     "output_type": "stream",
     "text": [
      "/Users/makun/anaconda3/lib/python3.7/site-packages/ipykernel_launcher.py:8: RuntimeWarning: divide by zero encountered in log\n",
      "  \n",
      "/Users/makun/anaconda3/lib/python3.7/site-packages/ipykernel_launcher.py:9: RuntimeWarning: divide by zero encountered in log\n",
      "  if __name__ == '__main__':\n"
     ]
    },
    {
     "data": {
      "text/plain": [
       "<matplotlib.axes._subplots.AxesSubplot at 0x7f924eb5d860>"
      ]
     },
     "execution_count": 11,
     "metadata": {},
     "output_type": "execute_result"
    },
    {
     "data": {
      "image/png": "[encoded data removed]",
      "text/plain": [
       "<Figure size 1296x720 with 4 Axes>"
      ]
     },
     "metadata": {
      "needs_background": "light"
     },
     "output_type": "display_data"
    }
   ],
   "source": [
    "import seaborn as sns \n",
    "fig2 = plt.figure(figsize=(18, 10))\n",
    "fig2.subplots_adjust(hspace=0.3)\n",
    "ax1 = fig2.add_subplot(2,2,1)\n",
    "ax2 = fig2.add_subplot(2,2,2)\n",
    "ax3 = fig2.add_subplot(2,2,3)\n",
    "ax4 = fig2.add_subplot(2,2,4)\n",
    "data['time_spent_log'] = np.log(data['time_spent'] )\n",
    "data['first_deposit_amount_log'] = np.log(data['first_deposit_amount'] )\n",
    "sns.boxplot(x = 'churn_flag', y = 'time_spent', data = data,ax=ax1) \n",
    "sns.boxplot(x = 'churn_flag', y = 'first_deposit_amount', data = data,ax=ax2) \n",
    "sns.boxplot(x = 'churn_flag', y = 'time_spent_log', data = data,ax=ax3) \n",
    "sns.boxplot(x = 'churn_flag', y = 'first_deposit_amount_log', data = data,ax=ax4) "
   ]
  },
  {
   "cell_type": "markdown",
   "metadata": {},
   "source": [
    "### There are 6 catagorical variables and 2 numerical variables \n",
    "- There is no missing /null value, which is good\n",
    "- For catagorical variables , if we look at the stacked bar plot, the height is the churn percent within each level, and the width is the number of users within each level\n",
    "- For numerical variables, since all the two variables \"time\" and \"amount\" is highly right skewed, taking the log transformation and check the boxplot help to analyze the trend\n",
    "- The trend summary is as below:  \n",
    "    **1. risk_tolerance**: lower risk tolerance, higher churn rate  \n",
    "    **2. investment_experience**: no expeience, higher churn rate  \n",
    "    **3. liquidity_needs**: somewhat > no_important > very_important  \n",
    "    **4. platform**: android > ios > both, probabily correlated to wealth  \n",
    "    **5. instrument_type_first_traded**: sample size >30, mlp(20%) > stock(18.5%) >reit(16%) >adr(14%)>etp (13%)  \n",
    "    **6. time_horizon**: short time > long or med time  \n",
    "    **7. time_spent**: higher time spent, higher churn  \n",
    "    **8. first_deposit_amount**: lower deposit, higher churn rate   "
   ]
  },
  {
   "cell_type": "markdown",
   "metadata": {},
   "source": [
    "### Binning Variables to reasonable level"
   ]
  },
  {
   "cell_type": "code",
   "execution_count": 12,
   "metadata": {},
   "outputs": [
    {
     "name": "stdout",
     "output_type": "stream",
     "text": [
      "                                       churn_flag          \n",
      "                                            count      mean\n",
      "risk_tolerance_bin risk_tolerance                          \n",
      "1                  low_risk_tolerance         239  0.326360\n",
      "2                  med_risk_tolerance        1779  0.227656\n",
      "3                  high_risk_tolerance       3566  0.146943\n"
     ]
    }
   ],
   "source": [
    "def risk_tolerance(x):\n",
    "    if x ==\"low_risk_tolerance\":\n",
    "        return 1\n",
    "    elif x ==\"med_risk_tolerance\":\n",
    "        return 2\n",
    "    else:\n",
    "        return 3\n",
    "data[\"risk_tolerance_bin\"] = data.risk_tolerance.map(risk_tolerance)\n",
    "print(data.groupby(['risk_tolerance_bin','risk_tolerance']).agg({'churn_flag': ['count', 'mean' ]}))"
   ]
  },
  {
   "cell_type": "code",
   "execution_count": 13,
   "metadata": {},
   "outputs": [
    {
     "name": "stdout",
     "output_type": "stream",
     "text": [
      "                                                   churn_flag          \n",
      "                                                        count      mean\n",
      "investment_experience_bin investment_experience                        \n",
      "1                         no_investment_exp              1796  0.207127\n",
      "2                         extensive_investment_exp         76  0.171053\n",
      "                          good_investment_exp            1134  0.164903\n",
      "                          limited_investment_exp         2578  0.168735\n"
     ]
    }
   ],
   "source": [
    "def investment_experience(x):\n",
    "    if x ==\"no_investment_exp\":\n",
    "        return 1\n",
    "    else:\n",
    "        return 2\n",
    "data[\"investment_experience_bin\"] = data.investment_experience.map(investment_experience)\n",
    "print(data.groupby(['investment_experience_bin','investment_experience']).agg({'churn_flag': ['count', 'mean' ]}))"
   ]
  },
  {
   "cell_type": "code",
   "execution_count": 14,
   "metadata": {},
   "outputs": [
    {
     "name": "stdout",
     "output_type": "stream",
     "text": [
      "                                                churn_flag          \n",
      "                                                     count      mean\n",
      "liquidity_needs_bin liquidity_needs                                 \n",
      "1                   somewhat_important_liq_need       1109  0.245266\n",
      "2                   not_important_liq_need             258  0.189922\n",
      "3                   very_important_liq_need           4217  0.162675\n"
     ]
    }
   ],
   "source": [
    "def liquidity_needs(x):\n",
    "    if \"somewhat\" in x:\n",
    "        return 1\n",
    "    elif \"no\" in x:\n",
    "        return 2\n",
    "    else:\n",
    "        return 3\n",
    "data[\"liquidity_needs_bin\"] = data.liquidity_needs.map(liquidity_needs)\n",
    "print(data.groupby(['liquidity_needs_bin','liquidity_needs']).agg({'churn_flag': ['count', 'mean' ]}))"
   ]
  },
  {
   "cell_type": "code",
   "execution_count": 15,
   "metadata": {},
   "outputs": [
    {
     "name": "stdout",
     "output_type": "stream",
     "text": [
      "                      churn_flag          \n",
      "                           count      mean\n",
      "platform_bin platform                     \n",
      "1            Android        1529  0.200785\n",
      "2            iOS            3550  0.173521\n",
      "3            both            505  0.166337\n"
     ]
    }
   ],
   "source": [
    "def platform(x):\n",
    "    if \"Andr\" in x:\n",
    "        return 1\n",
    "    elif \"iOS\" in x:\n",
    "        return 2\n",
    "    else:\n",
    "        return 3\n",
    "data[\"platform_bin\"] = data.platform.map(platform)\n",
    "print(data.groupby(['platform_bin','platform']).agg({'churn_flag': ['count', 'mean' ]}))"
   ]
  },
  {
   "cell_type": "code",
   "execution_count": 16,
   "metadata": {},
   "outputs": [
    {
     "name": "stdout",
     "output_type": "stream",
     "text": [
      "                       churn_flag          \n",
      "                            count      mean\n",
      "platform_bin1 platform                     \n",
      "1             Android        1529  0.200785\n",
      "2             both            505  0.166337\n",
      "              iOS            3550  0.173521\n"
     ]
    }
   ],
   "source": [
    "def platform1(x):\n",
    "    if \"Andr\" in x:\n",
    "        return 1\n",
    "    else:\n",
    "        return 2\n",
    "data[\"platform_bin1\"] = data.platform.map(platform1)\n",
    "print(data.groupby(['platform_bin1','platform']).agg({'churn_flag': ['count', 'mean' ]}))"
   ]
  },
  {
   "cell_type": "code",
   "execution_count": 17,
   "metadata": {},
   "outputs": [
    {
     "name": "stdout",
     "output_type": "stream",
     "text": [
      "                                    churn_flag          \n",
      "                                         count      mean\n",
      "time_horizon_bin time_horizon                           \n",
      "1                short_time_horizon       2833  0.200847\n",
      "2                long_time_horizon        1833  0.160393\n",
      "                 med_time_horizon          918  0.156863\n"
     ]
    }
   ],
   "source": [
    "def time_horizon(x):\n",
    "    if \"shor\" in x:\n",
    "        return 1\n",
    "    else:\n",
    "        return 2\n",
    "data[\"time_horizon_bin\"] = data.time_horizon.map(time_horizon)\n",
    "print(data.groupby(['time_horizon_bin','time_horizon']).agg({'churn_flag': ['count', 'mean' ]}))"
   ]
  },
  {
   "cell_type": "code",
   "execution_count": 18,
   "metadata": {},
   "outputs": [
    {
     "name": "stdout",
     "output_type": "stream",
     "text": [
      "                count      mean\n",
      "instrument_bin                 \n",
      "1                 177  0.192090\n",
      "2                4827  0.185208\n",
      "3                 197  0.142132\n",
      "4                 383  0.133159\n",
      "                                            churn_flag          \n",
      "                                                 count      mean\n",
      "instrument_bin instrument_type_first_traded                     \n",
      "1              0                                    13  0.076923\n",
      "               cef                                  20  0.150000\n",
      "               lp                                    8  0.375000\n",
      "               mlp                                  55  0.200000\n",
      "               reit                                 55  0.163636\n",
      "               rlt                                   9  0.222222\n",
      "               tracking                              1  0.000000\n",
      "               wrt                                  16  0.312500\n",
      "2              stock                              4827  0.185208\n",
      "3              adr                                 197  0.142132\n",
      "4              etp                                 383  0.133159\n"
     ]
    }
   ],
   "source": [
    "def instrument(x):\n",
    "    if x ==\"stock\":\n",
    "        return 2\n",
    "    elif x ==\"adr\" :\n",
    "        return 3\n",
    "    elif x ==\"etp\":\n",
    "        return 4\n",
    "    else:\n",
    "        return 1\n",
    "data[\"instrument_bin\"] = data.instrument_type_first_traded.map(instrument)\n",
    "print(data['churn_flag'].groupby(data['instrument_bin']).agg(['count', 'mean'])) \n",
    "print(data.groupby(['instrument_bin','instrument_type_first_traded']).agg({'churn_flag': ['count', 'mean' ]}))"
   ]
  },
  {
   "cell_type": "code",
   "execution_count": 19,
   "metadata": {},
   "outputs": [
    {
     "name": "stdout",
     "output_type": "stream",
     "text": [
      "                 count      mean\n",
      "instrument_bin1                 \n",
      "1                 5004  0.185452\n",
      "2                  580  0.136207\n",
      "                                             churn_flag          \n",
      "                                                  count      mean\n",
      "instrument_bin1 instrument_type_first_traded                     \n",
      "1               0                                    13  0.076923\n",
      "                cef                                  20  0.150000\n",
      "                lp                                    8  0.375000\n",
      "                mlp                                  55  0.200000\n",
      "                reit                                 55  0.163636\n",
      "                rlt                                   9  0.222222\n",
      "                stock                              4827  0.185208\n",
      "                tracking                              1  0.000000\n",
      "                wrt                                  16  0.312500\n",
      "2               adr                                 197  0.142132\n",
      "                etp                                 383  0.133159\n"
     ]
    }
   ],
   "source": [
    "def instrument1(x):\n",
    "    if x ==\"adr\" or x ==\"etp\":\n",
    "        return 2\n",
    "    else:\n",
    "        return 1\n",
    "data[\"instrument_bin1\"] = data.instrument_type_first_traded.map(instrument1)\n",
    "print(data['churn_flag'].groupby(data['instrument_bin1']).agg(['count', 'mean'])) \n",
    "print(data.groupby(['instrument_bin1','instrument_type_first_traded']).agg({'churn_flag': ['count', 'mean' ]}))"
   ]
  },
  {
   "cell_type": "code",
   "execution_count": 20,
   "metadata": {},
   "outputs": [
    {
     "name": "stdout",
     "output_type": "stream",
     "text": [
      "                 count      mean\n",
      "time_spent_bin                  \n",
      "(-0.01, 0.0]      1079  0.078777\n",
      "(0.0, 1.0]          81  0.148148\n",
      "(1.0, 2.0]         122  0.245902\n",
      "(2.0, 3.0]         140  0.221429\n",
      "(3.0, 4.0]         130  0.184615\n",
      "(4.0, 5.0]         138  0.166667\n",
      "(5.0, 6.0]         136  0.191176\n",
      "(6.0, 10.0]        538  0.178439\n",
      "(10.0, 15.0]       593  0.185497\n",
      "(15.0, 20.0]       468  0.185897\n",
      "(20.0, 25.0]       355  0.216901\n",
      "(25.0, 30.0]       250  0.180000\n",
      "(30.0, 35.0]       211  0.222749\n",
      "(35.0, 40.0]       182  0.236264\n",
      "(40.0, 50.0]       271  0.214022\n",
      "(50.0, 70.0]       351  0.222222\n",
      "(70.0, 80.0]        98  0.183673\n",
      "(80.0, 90.0]        75  0.253333\n",
      "(90.0, 100.0]       56  0.339286\n",
      "(100.0, 9000.0]    310  0.254839\n"
     ]
    }
   ],
   "source": [
    "bins1 = [-0.01, 0, 1,2 ,3,4,5,6, 10,15, 20,25,30,35,40,50,70,80,90,100,9000]\n",
    "data['time_spent_bin'] = pd.cut(data.time_spent,bins1)   \n",
    "print(data['churn_flag'].groupby(data['time_spent_bin']).agg(['count', 'mean'])) "
   ]
  },
  {
   "cell_type": "code",
   "execution_count": 21,
   "metadata": {},
   "outputs": [
    {
     "name": "stdout",
     "output_type": "stream",
     "text": [
      "                count      mean\n",
      "time_spent_bin                 \n",
      "0                1079  0.078777\n",
      "1                  81  0.148148\n",
      "2                 262  0.232824\n",
      "3                2003  0.182726\n",
      "4                1718  0.213038\n",
      "5                 441  0.265306\n",
      "                  count      mean\n",
      "time_spent_dummy                 \n",
      "0                  1160  0.083621\n",
      "1                  4424  0.205696\n",
      "                                                    churn_flag          \n",
      "                                                         count      mean\n",
      "time_spent_bin time_spent_bin_cat time_spent_dummy1                     \n",
      "0              (-0.01, 0.0]       (-0.01, 1.0]            1079  0.078777\n",
      "1              (0.0, 1.0]         (-0.01, 1.0]              81  0.148148\n",
      "2              (1.0, 3.0]         (1.0, 9000.0]            262  0.232824\n",
      "3              (3.0, 20.0]        (1.0, 9000.0]           2003  0.182726\n",
      "4              (20.0, 80.0]       (1.0, 9000.0]           1718  0.213038\n",
      "5              (80.0, 9000.0]     (1.0, 9000.0]            441  0.265306\n"
     ]
    }
   ],
   "source": [
    "bins1 = [-0.01, 0, 1,3, 20,80,9000]\n",
    "data['time_spent_bin_cat'] = pd.cut(data.time_spent,bins1)\n",
    "data['time_spent_bin'] = pd.cut(data.time_spent,bins1, labels=False)  \n",
    "print(data['churn_flag'].groupby(data['time_spent_bin']).agg(['count', 'mean'])) \n",
    "bins1_d = [-0.01, 1,9000]\n",
    "data['time_spent_dummy1'] = pd.cut(data.time_spent,bins1_d)\n",
    "data['time_spent_dummy'] = pd.cut(data.time_spent,bins1_d, labels=False)\n",
    "print(data['churn_flag'].groupby(data['time_spent_dummy']).agg(['count', 'mean'])) \n",
    "\n",
    "print(data.groupby(['time_spent_bin','time_spent_bin_cat','time_spent_dummy1']).agg({'churn_flag': ['count', 'mean' ]}))"
   ]
  },
  {
   "cell_type": "markdown",
   "metadata": {},
   "source": [
    "- **It looks like the trend for time spent is U Shape, 3-20 has lowest churn rate , 1-3 and 20-high have higher churn rate**  \n",
    "- **It looks like there are some abnormal value 0 and 0-1, these two groups have very low churn rate, and the reason is not clear and need further investigation** "
   ]
  },
  {
   "cell_type": "code",
   "execution_count": 22,
   "metadata": {},
   "outputs": [
    {
     "name": "stdout",
     "output_type": "stream",
     "text": [
      "                          count      mean\n",
      "first_deposit_amount_bin                 \n",
      "0                           273  0.329670\n",
      "1                          1039  0.259865\n",
      "2                           697  0.209469\n",
      "3                          1884  0.169321\n",
      "4                          1638  0.109280\n",
      "5                            53  0.056604\n",
      "                                                      churn_flag          \n",
      "                                                           count      mean\n",
      "first_deposit_amount_bin first_deposit_amount_bin_cat                     \n",
      "0                        (-0.01, 9.0]                        273  0.329670\n",
      "1                        (9.0, 49.0]                        1039  0.259865\n",
      "2                        (49.0, 99.0]                        697  0.209469\n",
      "3                        (99.0, 499.0]                      1884  0.169321\n",
      "4                        (499.0, 9999.0]                    1638  0.109280\n",
      "5                        (9999.0, 50000.0]                    53  0.056604\n"
     ]
    }
   ],
   "source": [
    "bins4 = [-0.01, 9,  49, 99,499,9999,50000]\n",
    "data['first_deposit_amount_bin_cat'] = pd.cut(data.first_deposit_amount,bins4).values.add_categories('missing')\n",
    "data['first_deposit_amount_bin_cat'].fillna('missing')  \n",
    "data['first_deposit_amount_bin'] = pd.cut(data.first_deposit_amount,bins4,labels= False)\n",
    "\n",
    "print(data['churn_flag'].groupby(data['first_deposit_amount_bin']).agg(['count', 'mean'])) \n",
    "print(data.groupby(['first_deposit_amount_bin','first_deposit_amount_bin_cat']).agg({'churn_flag': ['count', 'mean' ]}))"
   ]
  },
  {
   "cell_type": "markdown",
   "metadata": {},
   "source": [
    "### Train models , variable selection and model selection"
   ]
  },
  {
   "cell_type": "code",
   "execution_count": 23,
   "metadata": {},
   "outputs": [
    {
     "name": "stdout",
     "output_type": "stream",
     "text": [
      "0    3201\n",
      "1     707\n",
      "Name: churn_flag, dtype: int64\n"
     ]
    }
   ],
   "source": [
    "from sklearn.model_selection import train_test_split\n",
    "from statsmodels.stats.outliers_influence import variance_inflation_factor\n",
    "import statsmodels.api as sm\n",
    "from sklearn import ensemble\n",
    "import matplotlib.pyplot as plt\n",
    "trainData, testData = train_test_split(data, train_size=0.7,random_state=42)\n",
    "print(trainData.churn_flag.value_counts())\n",
    "\n",
    "trainData.to_csv('trainData.csv',index=False)\n",
    "testData.to_csv('testData.csv',index=False)"
   ]
  },
  {
   "cell_type": "markdown",
   "metadata": {},
   "source": [
    "#### Decision tree"
   ]
  },
  {
   "cell_type": "code",
   "execution_count": 24,
   "metadata": {},
   "outputs": [],
   "source": [
    "import sklearn.model_selection as cross_validation\n",
    "bin_var = ['first_deposit_amount_bin','liquidity_needs_bin', 'time_horizon_bin' ,\\\n",
    "           'risk_tolerance_bin', 'investment_experience_bin',\\\n",
    "           'time_spent_bin','time_spent_dummy',\\\n",
    "           'instrument_bin','instrument_bin1',\\\n",
    "           'platform_bin','platform_bin1']\n",
    "num_feature = ['time_spent','first_deposit_amount']\n",
    "all_feature = bin_var[:]\n",
    "all_feature.extend(['risk_tolerance','investment_experience','liquidity_needs','platform',\\\n",
    "                    'instrument_type_first_traded','time_horizon'])\n",
    "all_feature.extend(num_feature)\n",
    "train_data = trainData[all_feature] \n",
    "test_data =  testData[all_feature] \n",
    "train_target = trainData[\"churn_flag\"] \n",
    "test_target = testData[\"churn_flag\"] \n"
   ]
  },
  {
   "cell_type": "code",
   "execution_count": 25,
   "metadata": {},
   "outputs": [
    {
     "data": {
      "text/plain": [
       "['first_deposit_amount_bin',\n",
       " 'liquidity_needs_bin',\n",
       " 'time_horizon_bin',\n",
       " 'risk_tolerance_bin',\n",
       " 'investment_experience_bin',\n",
       " 'time_spent_bin',\n",
       " 'time_spent_dummy',\n",
       " 'instrument_bin',\n",
       " 'instrument_bin1',\n",
       " 'platform_bin',\n",
       " 'platform_bin1',\n",
       " 'time_spent',\n",
       " 'first_deposit_amount',\n",
       " 'x0_high_risk_tolerance',\n",
       " 'x0_low_risk_tolerance',\n",
       " 'x0_med_risk_tolerance',\n",
       " 'x1_extensive_investment_exp',\n",
       " 'x1_good_investment_exp',\n",
       " 'x1_limited_investment_exp',\n",
       " 'x1_no_investment_exp',\n",
       " 'x2_not_important_liq_need',\n",
       " 'x2_somewhat_important_liq_need',\n",
       " 'x2_very_important_liq_need',\n",
       " 'x3_Android',\n",
       " 'x3_both',\n",
       " 'x3_iOS',\n",
       " 'x4_0',\n",
       " 'x4_adr',\n",
       " 'x4_cef',\n",
       " 'x4_etp',\n",
       " 'x4_lp',\n",
       " 'x4_mlp',\n",
       " 'x4_reit',\n",
       " 'x4_rlt',\n",
       " 'x4_stock',\n",
       " 'x4_tracking',\n",
       " 'x4_wrt',\n",
       " 'x5_long_time_horizon',\n",
       " 'x5_med_time_horizon',\n",
       " 'x5_short_time_horizon',\n",
       " 'first_deposit_amount_log',\n",
       " 'time_spent_log']"
      ]
     },
     "execution_count": 25,
     "metadata": {},
     "output_type": "execute_result"
    }
   ],
   "source": [
    "from sklearn.preprocessing import OneHotEncoder\n",
    "from sklearn.compose import make_column_transformer\n",
    "column_transformer =make_column_transformer(\n",
    "(OneHotEncoder(handle_unknown ='ignore'),['risk_tolerance','investment_experience','liquidity_needs',\\\n",
    "                                          'platform','instrument_type_first_traded','time_horizon'] ),   \n",
    ")\n",
    "ohe = column_transformer.fit_transform(train_data)\n",
    "col_names = column_transformer.named_transformers_['onehotencoder'].get_feature_names()\n",
    "ohe_df = pd.DataFrame(ohe.toarray(), columns = col_names) \n",
    "ohe_df.index = train_data.index\n",
    "train_data =  trainData[bin_var+num_feature].join(ohe_df)\n",
    "\n",
    "ohe_test = column_transformer.transform(test_data)\n",
    "ohe_test_df = pd.DataFrame(ohe_test.toarray(), columns = col_names) \n",
    "ohe_test_df.index = test_data.index\n",
    "test_data =  testData[bin_var+num_feature].join(ohe_test_df)\n",
    "\n",
    "train_data[\"first_deposit_amount_log\"] = train_data.first_deposit_amount.map(lambda x: np.log(x+0.01))\n",
    "test_data[\"first_deposit_amount_log\"] = test_data.first_deposit_amount.map(lambda x: np.log(x+0.01))\n",
    "\n",
    "\n",
    "train_data[\"time_spent_log\"] = train_data.time_spent.map(lambda x: np.log(x+0.01))\n",
    "test_data[\"time_spent_log\"] = test_data.time_spent.map(lambda x: np.log(x+0.01))\n",
    "\n",
    "model_features = train_data.columns.values.tolist()\n",
    "model_features\n"
   ]
  },
  {
   "cell_type": "code",
   "execution_count": 26,
   "metadata": {},
   "outputs": [
    {
     "name": "stdout",
     "output_type": "stream",
     "text": [
      "[[1361   15]\n",
      " [ 297    3]]\n",
      "              precision    recall  f1-score   support\n",
      "\n",
      "           0       0.82      0.99      0.90      1376\n",
      "           1       0.17      0.01      0.02       300\n",
      "\n",
      "    accuracy                           0.81      1676\n",
      "   macro avg       0.49      0.50      0.46      1676\n",
      "weighted avg       0.70      0.81      0.74      1676\n",
      "\n",
      "                           columns  importance\n",
      "11                      time_spent    0.268254\n",
      "12            first_deposit_amount    0.223359\n",
      "40        first_deposit_amount_log    0.144813\n",
      "41                  time_spent_log    0.070787\n",
      "39           x5_short_time_horizon    0.051058\n",
      "34                        x4_stock    0.038287\n",
      "37            x5_long_time_horizon    0.029620\n",
      "3               risk_tolerance_bin    0.028766\n",
      "32                         x4_reit    0.028322\n",
      "16     x1_extensive_investment_exp    0.021049\n",
      "27                          x4_adr    0.021018\n",
      "13          x0_high_risk_tolerance    0.017695\n",
      "25                          x3_iOS    0.013083\n",
      "30                           x4_lp    0.011000\n",
      "15           x0_med_risk_tolerance    0.009037\n",
      "26                            x4_0    0.008737\n",
      "29                          x4_etp    0.008088\n",
      "7                   instrument_bin    0.007027\n",
      "38             x5_med_time_horizon    0.000000\n",
      "35                     x4_tracking    0.000000\n",
      "31                          x4_mlp    0.000000\n",
      "36                          x4_wrt    0.000000\n",
      "28                          x4_cef    0.000000\n",
      "33                          x4_rlt    0.000000\n",
      "0         first_deposit_amount_bin    0.000000\n",
      "24                         x3_both    0.000000\n",
      "10                   platform_bin1    0.000000\n",
      "2                 time_horizon_bin    0.000000\n",
      "4        investment_experience_bin    0.000000\n",
      "5                   time_spent_bin    0.000000\n",
      "6                 time_spent_dummy    0.000000\n",
      "8                  instrument_bin1    0.000000\n",
      "9                     platform_bin    0.000000\n",
      "14           x0_low_risk_tolerance    0.000000\n",
      "23                      x3_Android    0.000000\n",
      "17          x1_good_investment_exp    0.000000\n",
      "18       x1_limited_investment_exp    0.000000\n",
      "19            x1_no_investment_exp    0.000000\n",
      "20       x2_not_important_liq_need    0.000000\n",
      "1              liquidity_needs_bin    0.000000\n",
      "22      x2_very_important_liq_need    0.000000\n",
      "21  x2_somewhat_important_liq_need    0.000000\n"
     ]
    }
   ],
   "source": [
    "import sklearn.tree as tree\n",
    "# Any random parameter\n",
    "clf = tree.DecisionTreeClassifier(criterion='entropy', max_depth=6, min_samples_split=2)  \n",
    "clf.fit(train_data, train_target)   \n",
    "\n",
    "train_est = clf.predict(train_data)  \n",
    "train_est_p=clf.predict_proba(train_data)[:,1]  # This is the probability of churn for training data\n",
    "test_est=clf.predict(test_data)  \n",
    "test_est_p=clf.predict_proba(test_data)[:,1]  #  # This is the probability of churn for test data\n",
    "\n",
    "\n",
    "## Evaluation\n",
    "import sklearn.metrics as metrics\n",
    "\n",
    "print(metrics.confusion_matrix(test_target, test_est,labels=[0,1]))   \n",
    "print(metrics.classification_report(test_target, test_est))   \n",
    "print(pd.DataFrame(list(zip(train_data.columns, clf.feature_importances_)),columns=[\"columns\",\"importance\"]).sort_values(by='importance', ascending=False)) \n"
   ]
  },
  {
   "cell_type": "code",
   "execution_count": 27,
   "metadata": {},
   "outputs": [
    {
     "data": {
      "image/png": "[encoded data removed]",
      "text/plain": [
       "<Figure size 432x432 with 1 Axes>"
      ]
     },
     "metadata": {
      "needs_background": "light"
     },
     "output_type": "display_data"
    },
    {
     "name": "stdout",
     "output_type": "stream",
     "text": [
      "Train AUC = 0.7126\n",
      "Test AUC = 0.6135\n",
      "[[1361   15]\n",
      " [ 297    3]]\n",
      "              precision    recall  f1-score   support\n",
      "\n",
      "           0       0.82      0.99      0.90      1376\n",
      "           1       0.17      0.01      0.02       300\n",
      "\n",
      "    accuracy                           0.81      1676\n",
      "   macro avg       0.49      0.50      0.46      1676\n",
      "weighted avg       0.70      0.81      0.74      1676\n",
      "\n"
     ]
    }
   ],
   "source": [
    "# roc to check overfitting\n",
    "fpr_test, tpr_test, th_test = metrics.roc_curve(test_target, test_est_p)\n",
    "fpr_train, tpr_train, th_train = metrics.roc_curve(train_target, train_est_p)\n",
    "plt.figure(figsize=[6,6])\n",
    "plt.plot(fpr_test, tpr_test, color='blue')#blue :test\n",
    "plt.plot(fpr_train, tpr_train, color='red')#red : train\n",
    "plt.plot([0, 1], [0, 1], color='navy', lw=1, linestyle='--')\n",
    "plt.title('ROC curve')\n",
    "plt.xlabel('False Positive Rate')\n",
    "plt.ylabel('True Positive Rate')\n",
    "plt.show()\n",
    "\n",
    "# severe overfitting\n",
    "print('Train AUC = %6.4f' %metrics.auc(fpr_train, tpr_train)) \n",
    "print('Test AUC = %6.4f' %metrics.auc(fpr_test, tpr_test))  \n",
    "print(metrics.confusion_matrix(test_target, test_est,labels=[0,1]))  \n",
    "print(metrics.classification_report(test_target, test_est))   \n",
    " "
   ]
  },
  {
   "cell_type": "code",
   "execution_count": 28,
   "metadata": {},
   "outputs": [],
   "source": [
    "### Calculate the KS for the  model\n",
    "def KS(df, score, target):\n",
    "    '''\n",
    "    :param df: the dataset containing probability and bad indicator\n",
    "    :param score:\n",
    "    :param target:\n",
    "    :return:\n",
    "    '''\n",
    "    total = df.groupby([score])[target].count()\n",
    "    bad = df.groupby([score])[target].sum()\n",
    "    all = pd.DataFrame({'total':total, 'bad':bad})\n",
    "    all['good'] = all['total'] - all['bad']\n",
    "    all[score] = all.index\n",
    "    all.index = range(len(all))\n",
    "    all = all.sort_values(by=score,ascending=False)\n",
    "    all.index = range(len(all))\n",
    "    all['badCumRate'] = all['bad'].cumsum() / all['bad'].sum()\n",
    "    all['goodCumRate'] = all['good'].cumsum() / all['good'].sum()\n",
    "    all['totalPcnt'] = all['total'] / all['total'].sum()\n",
    "    KS = all.apply(lambda x: x.badCumRate - x.goodCumRate, axis=1)\n",
    "    return  max(KS)\n"
   ]
  },
  {
   "cell_type": "code",
   "execution_count": 29,
   "metadata": {},
   "outputs": [
    {
     "name": "stdout",
     "output_type": "stream",
     "text": [
      "Train KS = 0.3119\n",
      "Test KS = 0.1944\n"
     ]
    }
   ],
   "source": [
    "compare_train=pd.DataFrame({'train_target':train_target,'train_est':train_est,'train_est_p':train_est_p})\n",
    "compare_test=pd.DataFrame({'test_target':test_target,'test_est':test_est,'test_est_p':test_est_p})\n",
    "print('Train KS = %6.4f' %KS(compare_train, 'train_est_p', 'train_target')) \n",
    "print('Test KS = %6.4f' %KS(compare_test, 'test_est_p', 'test_target')) "
   ]
  },
  {
   "cell_type": "markdown",
   "metadata": {},
   "source": [
    "- Decision tree is overfitting, however AUC and KS both tell the prediction power is not high\n",
    "- standards are KS >=0.3 , AUC>=0.7"
   ]
  },
  {
   "cell_type": "markdown",
   "metadata": {},
   "source": [
    "#### Decision tree + Grid Search"
   ]
  },
  {
   "cell_type": "code",
   "execution_count": 30,
   "metadata": {},
   "outputs": [
    {
     "data": {
      "text/plain": [
       "{'criterion': 'entropy', 'max_depth': 4, 'min_samples_split': 2}"
      ]
     },
     "execution_count": 30,
     "metadata": {},
     "output_type": "execute_result"
    }
   ],
   "source": [
    "from sklearn.model_selection import GridSearchCV\n",
    "from sklearn import metrics\n",
    "\n",
    "\n",
    "param_grid = {\n",
    "    'criterion':['entropy','gini'],\n",
    "    'max_depth':[3,4,5,6,7], \n",
    "    'min_samples_split':[2,3,4,5,6,7] \n",
    "}\n",
    "clf = tree.DecisionTreeClassifier() \n",
    " \n",
    "clfcv = GridSearchCV(estimator=clf, param_grid=param_grid, \n",
    "                   scoring='roc_auc', cv=4) \n",
    "clfcv.fit(train_data, train_target)\n",
    " \n",
    "clfcv.best_params_ "
   ]
  },
  {
   "cell_type": "code",
   "execution_count": 31,
   "metadata": {},
   "outputs": [
    {
     "data": {
      "text/plain": [
       "[('first_deposit_amount', 0.2976178038955655),\n",
       " ('time_spent_log', 0.2467195803768492),\n",
       " ('first_deposit_amount_log', 0.18600134825380113),\n",
       " ('time_horizon_bin', 0.08212807186972684),\n",
       " ('x5_long_time_horizon', 0.04764474422257305),\n",
       " ('risk_tolerance_bin', 0.046270809130403566),\n",
       " ('x4_reit', 0.04555631062278788),\n",
       " ('time_spent', 0.030367694695978782),\n",
       " ('x4_lp', 0.017693636932313975),\n",
       " ('first_deposit_amount_bin', 0.0),\n",
       " ('liquidity_needs_bin', 0.0),\n",
       " ('investment_experience_bin', 0.0),\n",
       " ('time_spent_bin', 0.0),\n",
       " ('time_spent_dummy', 0.0),\n",
       " ('instrument_bin', 0.0),\n",
       " ('instrument_bin1', 0.0),\n",
       " ('platform_bin', 0.0),\n",
       " ('platform_bin1', 0.0),\n",
       " ('x0_high_risk_tolerance', 0.0),\n",
       " ('x0_low_risk_tolerance', 0.0),\n",
       " ('x0_med_risk_tolerance', 0.0),\n",
       " ('x1_extensive_investment_exp', 0.0),\n",
       " ('x1_good_investment_exp', 0.0),\n",
       " ('x1_limited_investment_exp', 0.0),\n",
       " ('x1_no_investment_exp', 0.0),\n",
       " ('x2_not_important_liq_need', 0.0),\n",
       " ('x2_somewhat_important_liq_need', 0.0),\n",
       " ('x2_very_important_liq_need', 0.0),\n",
       " ('x3_Android', 0.0),\n",
       " ('x3_both', 0.0),\n",
       " ('x3_iOS', 0.0),\n",
       " ('x4_0', 0.0),\n",
       " ('x4_adr', 0.0),\n",
       " ('x4_cef', 0.0),\n",
       " ('x4_etp', 0.0),\n",
       " ('x4_mlp', 0.0),\n",
       " ('x4_rlt', 0.0),\n",
       " ('x4_stock', 0.0),\n",
       " ('x4_tracking', 0.0),\n",
       " ('x4_wrt', 0.0),\n",
       " ('x5_med_time_horizon', 0.0),\n",
       " ('x5_short_time_horizon', 0.0)]"
      ]
     },
     "execution_count": 31,
     "metadata": {},
     "output_type": "execute_result"
    }
   ],
   "source": [
    "importace = clfcv.best_estimator_.feature_importances_.tolist()\n",
    "featureImportance = zip(model_features,importace)\n",
    "featureImportanceSorted = sorted(featureImportance, key=lambda k: k[1],reverse=True)\n",
    "featureImportanceSorted"
   ]
  },
  {
   "cell_type": "code",
   "execution_count": 32,
   "metadata": {},
   "outputs": [
    {
     "data": {
      "image/png": "[encoded data removed]",
      "text/plain": [
       "<Figure size 432x432 with 1 Axes>"
      ]
     },
     "metadata": {
      "needs_background": "light"
     },
     "output_type": "display_data"
    },
    {
     "name": "stdout",
     "output_type": "stream",
     "text": [
      "Train AUC = 0.6760\n",
      "Test AUC = 0.6304\n",
      "Train KS = 0.2531\n",
      "Test KS = 0.2004\n",
      "[[1376    0]\n",
      " [ 300    0]]\n",
      "              precision    recall  f1-score   support\n",
      "\n",
      "           0       0.82      1.00      0.90      1376\n",
      "           1       0.00      0.00      0.00       300\n",
      "\n",
      "    accuracy                           0.82      1676\n",
      "   macro avg       0.41      0.50      0.45      1676\n",
      "weighted avg       0.67      0.82      0.74      1676\n",
      "\n"
     ]
    },
    {
     "name": "stderr",
     "output_type": "stream",
     "text": [
      "/Users/makun/anaconda3/lib/python3.7/site-packages/sklearn/metrics/classification.py:1437: UndefinedMetricWarning: Precision and F-score are ill-defined and being set to 0.0 in labels with no predicted samples.\n",
      "  'precision', 'predicted', average, warn_for)\n"
     ]
    }
   ],
   "source": [
    "train_est = clfcv.predict(train_data)   \n",
    "train_est_p = clfcv.predict_proba(train_data)[:,1]   \n",
    "test_est = clfcv.predict(test_data)  \n",
    "test_est_p = clfcv.predict_proba(test_data)[:,1]  \n",
    "\n",
    "# roc to check overfitting\n",
    "fpr_test, tpr_test, th_test = metrics.roc_curve(test_target, test_est_p)\n",
    "fpr_train, tpr_train, th_train = metrics.roc_curve(train_target, train_est_p)\n",
    "plt.figure(figsize=[6,6])\n",
    "plt.plot(fpr_test, tpr_test, color='blue')#blue :test\n",
    "plt.plot(fpr_train, tpr_train, color='red')#red : train\n",
    "plt.plot([0, 1], [0, 1], color='navy', lw=1, linestyle='--')\n",
    "plt.title('ROC curve')\n",
    "plt.xlabel('False Positive Rate')\n",
    "plt.ylabel('True Positive Rate')\n",
    "plt.show()\n",
    "\n",
    "# some overfitting\n",
    "print('Train AUC = %6.4f' %metrics.auc(fpr_train, tpr_train))  \n",
    "print('Test AUC = %6.4f' %metrics.auc(fpr_test, tpr_test))  \n",
    "compare_train=pd.DataFrame({'train_target':train_target,'train_est':train_est,'train_est_p':train_est_p})\n",
    "compare_test=pd.DataFrame({'test_target':test_target,'test_est':test_est,'test_est_p':test_est_p})\n",
    "print('Train KS = %6.4f' %KS(compare_train, 'train_est_p', 'train_target')) \n",
    "print('Test KS = %6.4f' %KS(compare_test, 'test_est_p', 'test_target')) \n",
    "print(metrics.confusion_matrix(test_target, test_est,labels=[0,1]))  \n",
    "print(metrics.classification_report(test_target, test_est))   \n",
    " "
   ]
  },
  {
   "cell_type": "markdown",
   "metadata": {},
   "source": [
    "- Decision tree after Grid Search is some overfitting, however AUC and KS both tell the prediction power is not high\n",
    "- standards are KS >=0.3 , AUC>=0.7"
   ]
  },
  {
   "cell_type": "markdown",
   "metadata": {},
   "source": [
    "#### neural network"
   ]
  },
  {
   "cell_type": "code",
   "execution_count": 33,
   "metadata": {},
   "outputs": [
    {
     "data": {
      "text/plain": [
       "{'activation': 'tanh', 'alpha': 0.2, 'hidden_layer_sizes': (4, 8)}"
      ]
     },
     "execution_count": 33,
     "metadata": {},
     "output_type": "execute_result"
    }
   ],
   "source": [
    "from sklearn.preprocessing import MinMaxScaler\n",
    "\n",
    "\n",
    "scaler = MinMaxScaler()\n",
    "scaler.fit(train_data)\n",
    "\n",
    "scaled_train_data = scaler.transform(train_data)\n",
    "scaled_test_data = scaler.transform(test_data)\n",
    "\n",
    "\n",
    "from sklearn.model_selection import GridSearchCV\n",
    "from sklearn import metrics\n",
    "from sklearn.neural_network import MLPClassifier\n",
    "\n",
    "param_grid = {\n",
    "    'hidden_layer_sizes':[(15, ),(5, 5),(4, 8),(5, 6)],\n",
    "    'activation':['logistic', 'tanh', 'relu'], \n",
    "    'alpha':[0.001, 0.01, 0.1, 0.2, 0.4, 1, 10]\n",
    "}\n",
    "mlp = MLPClassifier(max_iter=1000)\n",
    "gcv = GridSearchCV(estimator=mlp, param_grid=param_grid, \n",
    "                   scoring='roc_auc', cv=4, n_jobs=-1)\n",
    "gcv.fit(scaled_train_data, train_target)\n",
    "\n",
    "gcv.best_params_\n",
    " "
   ]
  },
  {
   "cell_type": "code",
   "execution_count": 34,
   "metadata": {},
   "outputs": [
    {
     "data": {
      "image/png": "[encoded data removed]",
      "text/plain": [
       "<Figure size 432x432 with 1 Axes>"
      ]
     },
     "metadata": {
      "needs_background": "light"
     },
     "output_type": "display_data"
    },
    {
     "name": "stdout",
     "output_type": "stream",
     "text": [
      "Train AUC = 0.6800\n",
      "Test AUC = 0.6888\n",
      "Train KS = 0.2855\n",
      "Test KS = 0.2891\n",
      "[[1374    2]\n",
      " [ 297    3]]\n",
      "              precision    recall  f1-score   support\n",
      "\n",
      "           0       0.82      1.00      0.90      1376\n",
      "           1       0.60      0.01      0.02       300\n",
      "\n",
      "    accuracy                           0.82      1676\n",
      "   macro avg       0.71      0.50      0.46      1676\n",
      "weighted avg       0.78      0.82      0.74      1676\n",
      "\n"
     ]
    }
   ],
   "source": [
    "\n",
    "train_est = gcv.predict(scaled_train_data)   \n",
    "train_est_p=gcv.predict_proba(scaled_train_data)[:,1]   \n",
    "test_est=gcv.predict(scaled_test_data)  \n",
    "test_est_p=gcv.predict_proba(scaled_test_data)[:,1]   \n",
    "\n",
    "fpr_test, tpr_test, th_test = metrics.roc_curve(test_target, test_est_p)\n",
    "fpr_train, tpr_train, th_train = metrics.roc_curve(train_target, train_est_p)\n",
    "plt.figure(figsize=[6,6])\n",
    "plt.plot(fpr_test, tpr_test, color='blue')#blue :test\n",
    "plt.plot(fpr_train, tpr_train, color='red')#red : train\n",
    "plt.plot([0, 1], [0, 1], color='navy', lw=1, linestyle='--')\n",
    "plt.title('ROC curve')\n",
    "plt.xlabel('False Positive Rate')\n",
    "plt.ylabel('True Positive Rate')\n",
    "plt.show()\n",
    "\n",
    "# not overfitting\n",
    "print('Train AUC = %6.4f' %metrics.auc(fpr_train, tpr_train)) \n",
    "print('Test AUC = %6.4f' %metrics.auc(fpr_test, tpr_test)) \n",
    "compare_train=pd.DataFrame({'train_target':train_target,'train_est':train_est,'train_est_p':train_est_p})\n",
    "compare_test=pd.DataFrame({'test_target':test_target,'test_est':test_est,'test_est_p':test_est_p})\n",
    "print('Train KS = %6.4f' %KS(compare_train, 'train_est_p', 'train_target')) \n",
    "print('Test KS = %6.4f' %KS(compare_test, 'test_est_p', 'test_target')) \n",
    "\n",
    "print(metrics.confusion_matrix(test_target, test_est,labels=[0,1]))  \n",
    "print(metrics.classification_report(test_target, test_est))   \n",
    " "
   ]
  },
  {
   "cell_type": "markdown",
   "metadata": {},
   "source": [
    "- Neural network after Grid Search is not overfitting, and better than decision tree\n",
    "- However AUC and KS both tell the prediction power is not high. Standards are KS >=0.3 , AUC>=0.7"
   ]
  },
  {
   "cell_type": "markdown",
   "metadata": {},
   "source": [
    "### Logistic Regression \n",
    "- Lasso \n",
    "- WOE transaformation"
   ]
  },
  {
   "cell_type": "code",
   "execution_count": 35,
   "metadata": {},
   "outputs": [],
   "source": [
    "\n",
    "\n",
    "def CalcWOE(df, col, target):\n",
    "    '''\n",
    "    :param df: dataframe containing feature and target\n",
    "    :param col: the feature that needs to be calculated the WOE and iv, usually categorical type\n",
    "    :param target: good/bad indicator\n",
    "    :return: WOE and IV in a dictionary\n",
    "    '''\n",
    "    total = df.groupby([col])[target].count()\n",
    "    total = pd.DataFrame({'total': total})\n",
    "    bad = df.groupby([col])[target].sum()\n",
    "    bad = pd.DataFrame({'bad': bad})\n",
    "    regroup = total.merge(bad, left_index=True, right_index=True, how='left')\n",
    "    regroup.reset_index(level=0, inplace=True)\n",
    "    N = sum(regroup['total'])\n",
    "    B = sum(regroup['bad'])\n",
    "    regroup['good'] = regroup['total'] - regroup['bad']\n",
    "    G = N - B\n",
    "    regroup['bad_pcnt'] = regroup['bad'].map(lambda x: x*1.0/B)\n",
    "    regroup['good_pcnt'] = regroup['good'].map(lambda x: x * 1.0 / G)\n",
    "    regroup['WOE'] = regroup.apply(lambda x: np.log(x.good_pcnt*1.0/x.bad_pcnt),axis = 1)\n",
    "    WOE_dict = regroup[[col,'WOE']].set_index(col).to_dict(orient='index')\n",
    "    for k, v in WOE_dict.items():\n",
    "        WOE_dict[k] = v['WOE']\n",
    "    IV = regroup.apply(lambda x: (x.good_pcnt-x.bad_pcnt)*np.log(x.good_pcnt*1.0/x.bad_pcnt),axis = 1)\n",
    "    IV = sum(IV)\n",
    "    return {\"WOE\": WOE_dict, 'IV':IV}\n"
   ]
  },
  {
   "cell_type": "code",
   "execution_count": 36,
   "metadata": {},
   "outputs": [
    {
     "data": {
      "text/plain": [
       "{'first_deposit_amount_bin': {'WOE': {0: -0.7923480809229735,\n",
       "   1: -0.4864768935782983,\n",
       "   2: -0.10854794327873919,\n",
       "   3: 0.020356095891146925,\n",
       "   4: 0.6323060643469285,\n",
       "   5: 1.1047719039629078},\n",
       "  'IV': 0.19479104902121827},\n",
       " 'liquidity_needs_bin': {'WOE': {1: -0.34703706426760955,\n",
       "   2: 0.011651979042824253,\n",
       "   3: 0.10045898470994886},\n",
       "  'IV': 0.033361339050725254},\n",
       " 'time_horizon_bin': {'WOE': {1: -0.1785381896992233, 2: 0.20246059350222848},\n",
       "  'IV': 0.036038457538597135},\n",
       " 'risk_tolerance_bin': {'WOE': {1: -0.755347124508005,\n",
       "   2: -0.25900760176691295,\n",
       "   3: 0.2141710061191563},\n",
       "  'IV': 0.08137170016371344},\n",
       " 'investment_experience_bin': {'WOE': {1: -0.14951067732369996,\n",
       "   2: 0.07632253371710544},\n",
       "  'IV': 0.0114001960706828},\n",
       " 'time_spent_bin': {'WOE': {0: 0.8676206401583428,\n",
       "   1: 0.23901198073596877,\n",
       "   2: -0.4041954781075581,\n",
       "   3: -0.053657633226851256,\n",
       "   4: -0.1573694421497892,\n",
       "   5: -0.4031721746088012},\n",
       "  'IV': 0.1416527509948748},\n",
       " 'time_spent_dummy': {'WOE': {0: 0.8143761256395305, 1: -0.15386578648919144},\n",
       "  'IV': 0.12402151797854627},\n",
       " 'instrument_bin': {'WOE': {1: -0.14587241967217485,\n",
       "   2: -0.0306087968044934,\n",
       "   3: 0.20279071730165044,\n",
       "   4: 0.41825458194163223},\n",
       "  'IV': 0.013021858884773313},\n",
       " 'instrument_bin1': {'WOE': {1: -0.034456654465756596, 2: 0.337550862896666},\n",
       "  'IV': 0.011619630617250942},\n",
       " 'platform_bin': {'WOE': {1: -0.13768683508573543,\n",
       "   2: 0.04856997757314794,\n",
       "   3: 0.10936816852639483},\n",
       "  'IV': 0.008007577709847872},\n",
       " 'platform_bin1': {'WOE': {1: -0.13768683508573543, 2: 0.056120054612420534},\n",
       "  'IV': 0.007722021561937818}}"
      ]
     },
     "execution_count": 36,
     "metadata": {},
     "output_type": "execute_result"
    }
   ],
   "source": [
    "\n",
    "train_data_reg = train_data \n",
    "train_data_reg[\"churn_flag\"] = trainData[\"churn_flag\"]\n",
    "\n",
    "test_data_reg =  test_data \n",
    "test_data_reg[\"churn_flag\"]=testData[\"churn_flag\"]\n",
    "\n",
    "train_target = trainData[\"churn_flag\"]\n",
    "test_target = testData[\"churn_flag\"]\n",
    "\n",
    "\n",
    "WOE_IV_dict={}\n",
    "allFeatures = []\n",
    "\n",
    "bin_var = ['first_deposit_amount_bin','liquidity_needs_bin', 'time_horizon_bin' ,\\\n",
    "           'risk_tolerance_bin', 'investment_experience_bin',\\\n",
    "           'time_spent_bin','time_spent_dummy',\\\n",
    "           'instrument_bin','instrument_bin1',\\\n",
    "           'platform_bin','platform_bin1']\n",
    "\n",
    "for var in bin_var:\n",
    "    WOE_IV_dict[var] = CalcWOE(train_data_reg, var, 'churn_flag')\n",
    "\n",
    "\n",
    "WOE_IV_dict "
   ]
  },
  {
   "cell_type": "code",
   "execution_count": 37,
   "metadata": {},
   "outputs": [
    {
     "name": "stdout",
     "output_type": "stream",
     "text": [
      "[('investment_experience_bin', 0.0114001960706828), ('instrument_bin', 0.013021858884773313), ('instrument_bin1', 0.011619630617250942), ('platform_bin', 0.008007577709847872), ('platform_bin1', 0.007722021561937818)]\n"
     ]
    },
    {
     "data": {
      "text/plain": [
       "[('first_deposit_amount_bin', 0.19479104902121827),\n",
       " ('time_spent_bin', 0.1416527509948748),\n",
       " ('time_spent_dummy', 0.12402151797854627),\n",
       " ('risk_tolerance_bin', 0.08137170016371344),\n",
       " ('time_horizon_bin', 0.036038457538597135),\n",
       " ('liquidity_needs_bin', 0.033361339050725254)]"
      ]
     },
     "execution_count": 37,
     "metadata": {},
     "output_type": "execute_result"
    }
   ],
   "source": [
    "#   Single variable IV  #\n",
    "#  Chose IV > 0.02 \n",
    "low_IV =[(k, v['IV']) for k, v in WOE_IV_dict.items() if v['IV'] < 0.02]\n",
    "print(low_IV)\n",
    "high_IV = [(k,v['IV']) for k,v in WOE_IV_dict.items() if v['IV'] >= 0.02]\n",
    "high_IV_sorted = sorted(high_IV, key=lambda k: k[1],reverse=True)\n",
    "high_IV_sorted"
   ]
  },
  {
   "cell_type": "code",
   "execution_count": 38,
   "metadata": {},
   "outputs": [],
   "source": [
    "for pair in  [(k,v['IV']) for k,v in WOE_IV_dict.items() ]:\n",
    "    var=pair[0]\n",
    "    newVar = var+\"_WOE\"\n",
    "    train_data_reg[newVar] = train_data_reg[var].map(lambda x: WOE_IV_dict[var]['WOE'][x])\n"
   ]
  },
  {
   "cell_type": "code",
   "execution_count": 39,
   "metadata": {},
   "outputs": [
    {
     "name": "stdout",
     "output_type": "stream",
     "text": [
      "                                                        churn_flag            \\\n",
      "                                                             count      mean   \n",
      "investment_experience_bin investment_experience_bin_WOE                        \n",
      "1                         -0.149511                           1259  0.204130   \n",
      "2                          0.076323                           2649  0.169875   \n",
      "\n",
      "                                                              \n",
      "                                                         sum  \n",
      "investment_experience_bin investment_experience_bin_WOE       \n",
      "1                         -0.149511                      257  \n",
      "2                          0.076323                      450  \n"
     ]
    }
   ],
   "source": [
    "print(train_data_reg.groupby(['investment_experience_bin','investment_experience_bin_WOE']).agg({'churn_flag': ['count', 'mean' ,'sum' ]}))"
   ]
  },
  {
   "cell_type": "markdown",
   "metadata": {},
   "source": [
    "#### Using logistic regression with Lasso"
   ]
  },
  {
   "cell_type": "code",
   "execution_count": 40,
   "metadata": {},
   "outputs": [
    {
     "name": "stderr",
     "output_type": "stream",
     "text": [
      "/Users/makun/anaconda3/lib/python3.7/site-packages/sklearn/linear_model/logistic.py:432: FutureWarning: Default solver will be changed to 'lbfgs' in 0.22. Specify a solver to silence this warning.\n",
      "  FutureWarning)\n"
     ]
    }
   ],
   "source": [
    "bin_var = ['first_deposit_amount_bin','liquidity_needs_bin', 'time_horizon_bin' ,\\\n",
    "           'risk_tolerance_bin', 'investment_experience_bin',\\\n",
    "           'time_spent_bin','time_spent_dummy',\\\n",
    "           'instrument_bin','instrument_bin1',\\\n",
    "           'platform_bin','platform_bin1']\n",
    "WOE_var = ['first_deposit_amount_bin_WOE','liquidity_needs_bin_WOE', 'time_horizon_bin_WOE' ,\\\n",
    "           'risk_tolerance_bin_WOE', 'investment_experience_bin_WOE',\\\n",
    "           'time_spent_bin_WOE','time_spent_dummy_WOE',\\\n",
    "           'instrument_bin_WOE','instrument_bin1_WOE',\\\n",
    "           'platform_bin_WOE','platform_bin1_WOE']\n",
    "\n",
    "model_features1 = model_features[:]\n",
    "model_features1.extend(WOE_var)\n",
    "\n",
    "train_data = train_data_reg[model_features1]\n",
    "train_target = train_data_reg[\"churn_flag\"]\n",
    "\n",
    "from sklearn.linear_model import LogisticRegression\n",
    "lr = LogisticRegression(C=1, fit_intercept=True)\n",
    "lr.fit(train_data, train_target)\n",
    "y_train_pred = lr.predict(train_data)\n"
   ]
  },
  {
   "cell_type": "code",
   "execution_count": 41,
   "metadata": {},
   "outputs": [
    {
     "name": "stdout",
     "output_type": "stream",
     "text": [
      "                           feature     coeff\n",
      "14           x0_low_risk_tolerance  0.208958\n",
      "16     x1_extensive_investment_exp  0.204924\n",
      "39           x5_short_time_horizon  0.153825\n",
      "21  x2_somewhat_important_liq_need  0.130950\n",
      "30                           x4_lp  0.099412\n",
      "4        investment_experience_bin  0.099321\n",
      "23                      x3_Android  0.071575\n",
      "6                 time_spent_dummy  0.065795\n",
      "34                        x4_stock  0.035988\n",
      "36                          x4_wrt  0.033117\n",
      "27                          x4_adr  0.027137\n",
      "41                  time_spent_log  0.026981\n",
      "26                            x4_0  0.026188\n",
      "31                          x4_mlp  0.018580\n",
      "33                          x4_rlt  0.014291\n",
      "46   investment_experience_bin_WOE  0.011666\n",
      "5                   time_spent_bin  0.006784\n",
      "12            first_deposit_amount -0.000027\n",
      "11                      time_spent -0.000203\n",
      "17          x1_good_investment_exp -0.009098\n",
      "52               platform_bin1_WOE -0.012262\n",
      "51                platform_bin_WOE -0.013476\n",
      "22      x2_very_important_liq_need -0.013490\n",
      "8                  instrument_bin1 -0.014189\n",
      "10                   platform_bin1 -0.014222\n",
      "50             instrument_bin1_WOE -0.016934\n",
      "25                          x3_iOS -0.017610\n",
      "37            x5_long_time_horizon -0.025126\n",
      "24                         x3_both -0.025289\n",
      "49              instrument_bin_WOE -0.030064\n",
      "35                     x4_tracking -0.032405\n",
      "9                     platform_bin -0.039510\n",
      "48            time_spent_dummy_WOE -0.040352\n",
      "19            x1_no_investment_exp -0.041967\n",
      "43         liquidity_needs_bin_WOE -0.047834\n",
      "44            time_horizon_bin_WOE -0.052801\n",
      "32                         x4_reit -0.060435\n",
      "0         first_deposit_amount_bin -0.061230\n",
      "28                          x4_cef -0.063195\n",
      "29                          x4_etp -0.070002\n",
      "40        first_deposit_amount_log -0.075330\n",
      "13          x0_high_risk_tolerance -0.086136\n",
      "1              liquidity_needs_bin -0.087086\n",
      "20       x2_not_important_liq_need -0.088784\n",
      "7                   instrument_bin -0.091068\n",
      "15           x0_med_risk_tolerance -0.094144\n",
      "2                 time_horizon_bin -0.096471\n",
      "38             x5_med_time_horizon -0.100022\n",
      "18       x1_limited_investment_exp -0.125181\n",
      "45          risk_tolerance_bin_WOE -0.151899\n",
      "3               risk_tolerance_bin -0.237741\n",
      "42    first_deposit_amount_bin_WOE -0.349231\n",
      "47              time_spent_bin_WOE -0.480387\n"
     ]
    },
    {
     "data": {
      "image/png": "[encoded data removed]",
      "text/plain": [
       "<Figure size 360x1080 with 1 Axes>"
      ]
     },
     "metadata": {
      "needs_background": "light"
     },
     "output_type": "display_data"
    }
   ],
   "source": [
    "df_coeffs= pd.DataFrame(list(zip(model_features1, lr.coef_.flatten()))).sort_values(by=[1],ascending=False)\n",
    "df_coeffs.columns=[\"feature\",\"coeff\"]\n",
    "print(df_coeffs)\n",
    "f, ax = plt.subplots(figsize=(5,15))\n",
    "plt.barh(y=\"feature\", width = 'coeff',data=df_coeffs )\n",
    "t = np.arange(train_data.shape[1])\n",
    "ax.set_yticks(t)\n",
    "ax.set_yticklabels(df_coeffs['feature'])\n",
    "plt.show()"
   ]
  },
  {
   "cell_type": "code",
   "execution_count": 42,
   "metadata": {},
   "outputs": [
    {
     "name": "stderr",
     "output_type": "stream",
     "text": [
      "/Users/makun/anaconda3/lib/python3.7/site-packages/sklearn/linear_model/logistic.py:432: FutureWarning: Default solver will be changed to 'lbfgs' in 0.22. Specify a solver to silence this warning.\n",
      "  FutureWarning)\n"
     ]
    },
    {
     "name": "stdout",
     "output_type": "stream",
     "text": [
      "                           feature     coeff\n",
      "41                  time_spent_log  0.071940\n",
      "39           x5_short_time_horizon  0.024950\n",
      "14           x0_low_risk_tolerance  0.017725\n",
      "21  x2_somewhat_important_liq_need  0.011664\n",
      "15           x0_med_risk_tolerance  0.009442\n",
      "16     x1_extensive_investment_exp  0.002395\n",
      "6                 time_spent_dummy  0.001725\n",
      "5                   time_spent_bin  0.001390\n",
      "30                           x4_lp  0.000967\n",
      "36                          x4_wrt  0.000553\n",
      "46   investment_experience_bin_WOE  0.000169\n",
      "31                          x4_mlp  0.000164\n",
      "26                            x4_0  0.000100\n",
      "33                          x4_rlt  0.000002\n",
      "12            first_deposit_amount -0.000055\n",
      "11                      time_spent -0.000246\n",
      "35                     x4_tracking -0.000293\n",
      "23                      x3_Android -0.000495\n",
      "52               platform_bin1_WOE -0.000799\n",
      "51                platform_bin_WOE -0.000854\n",
      "28                          x4_cef -0.000989\n",
      "32                         x4_reit -0.001264\n",
      "27                          x4_adr -0.001388\n",
      "17          x1_good_investment_exp -0.002155\n",
      "50             instrument_bin1_WOE -0.002239\n",
      "49              instrument_bin_WOE -0.002490\n",
      "24                         x3_both -0.002835\n",
      "20       x2_not_important_liq_need -0.002912\n",
      "29                          x4_etp -0.006107\n",
      "19            x1_no_investment_exp -0.006137\n",
      "43         liquidity_needs_bin_WOE -0.006563\n",
      "34                        x4_stock -0.007689\n",
      "18       x1_limited_investment_exp -0.010046\n",
      "25                          x3_iOS -0.012613\n",
      "44            time_horizon_bin_WOE -0.012734\n",
      "48            time_spent_dummy_WOE -0.014654\n",
      "38             x5_med_time_horizon -0.015391\n",
      "42    first_deposit_amount_bin_WOE -0.015516\n",
      "47              time_spent_bin_WOE -0.020822\n",
      "8                  instrument_bin1 -0.023439\n",
      "22      x2_very_important_liq_need -0.024696\n",
      "45          risk_tolerance_bin_WOE -0.025067\n",
      "37            x5_long_time_horizon -0.025503\n",
      "4        investment_experience_bin -0.025751\n",
      "10                   platform_bin1 -0.031392\n",
      "9                     platform_bin -0.034227\n",
      "13          x0_high_risk_tolerance -0.043110\n",
      "7                   instrument_bin -0.044730\n",
      "2                 time_horizon_bin -0.056838\n",
      "1              liquidity_needs_bin -0.068247\n",
      "0         first_deposit_amount_bin -0.076875\n",
      "3               risk_tolerance_bin -0.092723\n",
      "40        first_deposit_amount_log -0.114171\n"
     ]
    },
    {
     "data": {
      "image/png": "[encoded data removed]",
      "text/plain": [
       "<Figure size 360x1080 with 1 Axes>"
      ]
     },
     "metadata": {
      "needs_background": "light"
     },
     "output_type": "display_data"
    }
   ],
   "source": [
    "from sklearn.linear_model import LogisticRegression\n",
    "lr = LogisticRegression(C=0.001, fit_intercept=True,penalty='l2')\n",
    "lr.fit(train_data, train_target)\n",
    "\n",
    "df_coeffs= pd.DataFrame(list(zip(model_features1, lr.coef_.flatten()))).sort_values(by=[1],ascending=False)\n",
    "df_coeffs.columns=[\"feature\",\"coeff\"]\n",
    "print(df_coeffs)\n",
    "f, ax = plt.subplots(figsize=(5,15))\n",
    "plt.barh(y=\"feature\", width = 'coeff',data=df_coeffs )\n",
    "t = np.arange(train_data.shape[1])\n",
    "ax.set_yticks(t)\n",
    "ax.set_yticklabels(df_coeffs['feature'])\n",
    "plt.show()"
   ]
  },
  {
   "cell_type": "markdown",
   "metadata": {},
   "source": [
    "#### Here we see the least 3 important variables from 8 variables are \n",
    "- investment experience\n",
    "- platform\n",
    "- instrument\n",
    "- *time horizon is somewhat important*"
   ]
  },
  {
   "cell_type": "markdown",
   "metadata": {},
   "source": [
    "##### Multicolinearity analysis"
   ]
  },
  {
   "cell_type": "code",
   "execution_count": 43,
   "metadata": {},
   "outputs": [
    {
     "data": {
      "text/plain": [
       "<matplotlib.axes._subplots.AxesSubplot at 0x7f9253cad1d0>"
      ]
     },
     "execution_count": 43,
     "metadata": {},
     "output_type": "execute_result"
    },
    {
     "data": {
      "image/png": "[encoded data removed]",
      "text/plain": [
       "<Figure size 432x288 with 2 Axes>"
      ]
     },
     "metadata": {
      "needs_background": "light"
     },
     "output_type": "display_data"
    }
   ],
   "source": [
    "# correlation\n",
    "WOE_var = ['first_deposit_amount_bin_WOE','liquidity_needs_bin_WOE', 'time_horizon_bin_WOE' ,\\\n",
    "           'risk_tolerance_bin_WOE', 'investment_experience_bin_WOE',\\\n",
    "           'time_spent_bin_WOE','time_spent_dummy_WOE',\\\n",
    "           'instrument_bin_WOE','instrument_bin1_WOE',\\\n",
    "           'platform_bin_WOE','platform_bin1_WOE']\n",
    "\n",
    "X=train_data_reg[WOE_var]\n",
    " \n",
    "    \n",
    "corr = X.corr() \n",
    "# plot the heatmap\n",
    "sns.heatmap(corr, xticklabels=corr.columns,yticklabels=corr.columns)\n"
   ]
  },
  {
   "cell_type": "code",
   "execution_count": 44,
   "metadata": {},
   "outputs": [
    {
     "data": {
      "text/plain": [
       "[1.060914786406334,\n",
       " 1.1672095403807792,\n",
       " 1.033041644789958,\n",
       " 1.049840161335118,\n",
       " 1.0618389840869196,\n",
       " 1.168432807459685,\n",
       " 1.0152577925113548,\n",
       " 1.179293504056166]"
      ]
     },
     "execution_count": 44,
     "metadata": {},
     "output_type": "execute_result"
    }
   ],
   "source": [
    "# VIF Analysis\n",
    "VIF_analysis = ['first_deposit_amount_bin_WOE','liquidity_needs_bin_WOE', 'time_horizon_bin_WOE' ,\\\n",
    "           'risk_tolerance_bin_WOE', 'investment_experience_bin_WOE',\\\n",
    "           'time_spent_bin_WOE', \\\n",
    "           'instrument_bin_WOE', \\\n",
    "           'platform_bin_WOE']\n",
    "X_VIF=train_data_reg[VIF_analysis]\n",
    "from statsmodels.stats.outliers_influence import variance_inflation_factor\n",
    "VIF_list = [variance_inflation_factor(X_VIF.values, i) for i in range(X_VIF.shape[1])]\n",
    "VIF_list"
   ]
  },
  {
   "cell_type": "markdown",
   "metadata": {},
   "source": [
    "#### There is no multicolinearity among the 8 variables "
   ]
  },
  {
   "cell_type": "markdown",
   "metadata": {},
   "source": [
    "### Coefficient estimation"
   ]
  },
  {
   "cell_type": "code",
   "execution_count": 45,
   "metadata": {},
   "outputs": [
    {
     "name": "stdout",
     "output_type": "stream",
     "text": [
      "Optimization terminated successfully.\n",
      "         Current function value: 0.443676\n",
      "         Iterations 6\n",
      "                                   coef        p-value\n",
      "intercept                     -1.512779  1.242417e-261\n",
      "first_deposit_amount_bin_WOE  -0.876250   3.285028e-18\n",
      "time_spent_bin_WOE            -0.791225   3.185311e-09\n",
      "risk_tolerance_bin_WOE        -0.787916   1.345232e-07\n",
      "time_horizon_bin_WOE          -0.862505   1.737919e-04\n",
      "liquidity_needs_bin_WOE       -0.728657   2.915450e-03\n",
      "platform_bin_WOE              -0.791379   1.231883e-01\n",
      "instrument_bin_WOE            -0.574228   1.497613e-01\n",
      "investment_experience_bin_WOE  0.268905   5.093905e-01\n"
     ]
    },
    {
     "name": "stderr",
     "output_type": "stream",
     "text": [
      "/Users/makun/anaconda3/lib/python3.7/site-packages/ipykernel_launcher.py:4: SettingWithCopyWarning: \n",
      "A value is trying to be set on a copy of a slice from a DataFrame.\n",
      "Try using .loc[row_indexer,col_indexer] = value instead\n",
      "\n",
      "See the caveats in the documentation: http://pandas.pydata.org/pandas-docs/stable/indexing.html#indexing-view-versus-copy\n",
      "  after removing the cwd from sys.path.\n"
     ]
    }
   ],
   "source": [
    "import statsmodels.api as sm\n",
    "multi_analysis = VIF_analysis\n",
    "X = train_data_reg[multi_analysis]\n",
    "X['intercept'] = [1] * X.shape[0]\n",
    "y = train_data_reg['churn_flag']\n",
    "logit = sm.Logit(y, X)\n",
    "logit_result = logit.fit()\n",
    "pvalues = logit_result.pvalues\n",
    "params = logit_result.params\n",
    "fit_result = pd.concat([params,pvalues],axis=1)\n",
    "fit_result.columns = ['coef','p-value']\n",
    "print(fit_result.sort_values(by='p-value'))"
   ]
  },
  {
   "cell_type": "markdown",
   "metadata": {},
   "source": [
    "#### Remember for IV analysis we know \n",
    "- instrument \n",
    "- investment_experience \n",
    "- platform are not predictive\n",
    "\n",
    "#### Remember for logistic regression with L2 norm regularization , we see the 3 least important variables from total 8 variables are\n",
    "- investment experience\n",
    "- platform\n",
    "- instrument\n",
    "- *time horizon is somewhat important*\n",
    "\n",
    "#### Here we see from P value , the same three variables are not important\n",
    "- investment_experience(p = 0.5)\n",
    "- instrument (p = 0.1) \n",
    "- platform  (p = 0.1) "
   ]
  },
  {
   "cell_type": "code",
   "execution_count": 46,
   "metadata": {},
   "outputs": [
    {
     "data": {
      "text/plain": [
       "[('time_spent_log', 0.1878282420455481),\n",
       " ('time_spent', 0.17596908251166565),\n",
       " ('first_deposit_amount', 0.1663081107916207),\n",
       " ('first_deposit_amount_log', 0.12902551541889373),\n",
       " ('x0_high_risk_tolerance', 0.037507011598937566),\n",
       " ('x0_low_risk_tolerance', 0.032709188198684465),\n",
       " ('risk_tolerance_bin', 0.020414329869288428),\n",
       " ('x5_short_time_horizon', 0.01942136331219094),\n",
       " ('time_spent_bin_WOE', 0.019282467595863786),\n",
       " ('x2_somewhat_important_liq_need', 0.018752304965432752),\n",
       " ('risk_tolerance_bin_WOE', 0.018718850853888545),\n",
       " ('time_horizon_bin_WOE', 0.015393422523312088),\n",
       " ('x4_lp', 0.014397773773828606),\n",
       " ('liquidity_needs_bin_WOE', 0.012979547144766328),\n",
       " ('x5_long_time_horizon', 0.011787414442303615),\n",
       " ('x4_stock', 0.011452074814658562),\n",
       " ('x4_mlp', 0.011037215478837396),\n",
       " ('x1_extensive_investment_exp', 0.010959674257121934),\n",
       " ('x1_limited_investment_exp', 0.007814490276981232),\n",
       " ('x5_med_time_horizon', 0.0072795693542262365),\n",
       " ('x4_reit', 0.00574225789103316),\n",
       " ('x4_adr', 0.004940124793436261),\n",
       " ('x2_not_important_liq_need', 0.0049356930099279),\n",
       " ('investment_experience_bin', 0.004344480822760124),\n",
       " ('x1_no_investment_exp', 0.004252424494716479),\n",
       " ('instrument_bin', 0.0037494510521232194),\n",
       " ('x4_rlt', 0.003627898913566712),\n",
       " ('x4_wrt', 0.00354190962201314),\n",
       " ('x1_good_investment_exp', 0.003501171375677872),\n",
       " ('instrument_bin1_WOE', 0.0034502622782365626),\n",
       " ('time_horizon_bin', 0.0031154411777673243),\n",
       " ('x0_med_risk_tolerance', 0.002960473498734281),\n",
       " ('platform_bin_WOE', 0.0023120506962735106),\n",
       " ('liquidity_needs_bin', 0.002248443637878915),\n",
       " ('instrument_bin_WOE', 0.0021104355111739026),\n",
       " ('platform_bin1', 0.0019004943233523535),\n",
       " ('investment_experience_bin_WOE', 0.0018775605960780896),\n",
       " ('x4_0', 0.001656719562287978),\n",
       " ('x3_both', 0.001593240784105179),\n",
       " ('first_deposit_amount_bin_WOE', 0.0015435194331648106),\n",
       " ('x3_Android', 0.0013872299481267633),\n",
       " ('platform_bin', 0.001164886030497493),\n",
       " ('instrument_bin1', 0.001143335962022812),\n",
       " ('x3_iOS', 0.0010387306254633951),\n",
       " ('first_deposit_amount_bin', 0.0009773865034851709),\n",
       " ('time_spent_bin', 0.0008622423724136436),\n",
       " ('x4_tracking', 0.0005019584628982303),\n",
       " ('platform_bin1_WOE', 0.000482527392733956),\n",
       " ('time_spent_dummy', 0.0),\n",
       " ('x2_very_important_liq_need', 0.0),\n",
       " ('x4_cef', 0.0),\n",
       " ('x4_etp', 0.0),\n",
       " ('time_spent_dummy_WOE', 0.0)]"
      ]
     },
     "execution_count": 46,
     "metadata": {},
     "output_type": "execute_result"
    }
   ],
   "source": [
    "'''\n",
    "Here to use GBDT to search important variable for double checking\n",
    "'''\n",
    "\n",
    "X=train_data_reg[model_features1]\n",
    "clf = ensemble.GradientBoostingClassifier()\n",
    "gbdt_model = clf.fit(X, y)\n",
    "importace = gbdt_model.feature_importances_.tolist()\n",
    "featureImportance = zip(model_features1,importace)\n",
    "featureImportanceSorted = sorted(featureImportance, key=lambda k: k[1],reverse=True)\n",
    "featureImportanceSorted"
   ]
  },
  {
   "cell_type": "markdown",
   "metadata": {},
   "source": [
    "#### Remember for IV analysis we know \n",
    "- instrument \n",
    "- investment_experience \n",
    "- platform are not predictive\n",
    "\n",
    "#### Remember for logistic regression with L2 norm regularization , we see the 3 least important variables from total 8 variables are\n",
    "- investment experience\n",
    "- platform\n",
    "- instrument\n",
    "- *time horizon is somewhat important*\n",
    "\n",
    "#### Remember from P value for non-regularized logistic model, the same three variables are not important\n",
    "- investment_experience(p = 0.5)\n",
    "- instrument (p = 0.1) \n",
    "- platform  (p = 0.1) \n",
    "\n",
    "### Here from GBDT we confirm below two varaibles are not significant\n",
    "- investment experience\n",
    "- platform\n",
    "- *instrument some level is important to some extent, but the sample size is low, so we cannot really tell*\n"
   ]
  },
  {
   "cell_type": "markdown",
   "metadata": {},
   "source": [
    "\n",
    "#### let me exclude investment_experience and platform and re -run regression"
   ]
  },
  {
   "cell_type": "code",
   "execution_count": 47,
   "metadata": {},
   "outputs": [
    {
     "name": "stdout",
     "output_type": "stream",
     "text": [
      "Optimization terminated successfully.\n",
      "         Current function value: 0.444043\n",
      "         Iterations 6\n",
      "                                  coef        p-value\n",
      "intercept                    -1.512071  6.844592e-262\n",
      "first_deposit_amount_bin_WOE -0.868042   2.575298e-18\n",
      "time_spent_bin_WOE           -0.834578   1.262656e-10\n",
      "risk_tolerance_bin_WOE       -0.772583   1.968646e-07\n",
      "time_horizon_bin_WOE         -0.832286   2.708449e-04\n",
      "liquidity_needs_bin_WOE      -0.591944   9.663862e-03\n",
      "instrument_bin_WOE           -0.574936   1.483747e-01\n"
     ]
    },
    {
     "name": "stderr",
     "output_type": "stream",
     "text": [
      "/Users/makun/anaconda3/lib/python3.7/site-packages/ipykernel_launcher.py:8: SettingWithCopyWarning: \n",
      "A value is trying to be set on a copy of a slice from a DataFrame.\n",
      "Try using .loc[row_indexer,col_indexer] = value instead\n",
      "\n",
      "See the caveats in the documentation: http://pandas.pydata.org/pandas-docs/stable/indexing.html#indexing-view-versus-copy\n",
      "  \n"
     ]
    }
   ],
   "source": [
    "import statsmodels.api as sm\n",
    "multi_analysis1 = ['first_deposit_amount_bin_WOE','liquidity_needs_bin_WOE', \\\n",
    "           'risk_tolerance_bin_WOE', \\\n",
    "           'time_spent_bin_WOE', \\\n",
    "           'instrument_bin_WOE', \\\n",
    "           'time_horizon_bin_WOE']\n",
    "X = train_data_reg[multi_analysis1]\n",
    "X['intercept'] = [1] * X.shape[0]\n",
    "y = train_data_reg['churn_flag']\n",
    "logit = sm.Logit(y, X)\n",
    "logit_result = logit.fit()\n",
    "pvalues = logit_result.pvalues\n",
    "params = logit_result.params\n",
    "fit_result = pd.concat([params,pvalues],axis=1)\n",
    "fit_result.columns = ['coef','p-value']\n",
    "print(fit_result.sort_values(by='p-value'))"
   ]
  },
  {
   "cell_type": "markdown",
   "metadata": {},
   "source": [
    "#### Here we see  instrument (p = 0.1)\n",
    "#### let me exclude instrument and re-run regression"
   ]
  },
  {
   "cell_type": "code",
   "execution_count": 48,
   "metadata": {},
   "outputs": [
    {
     "name": "stdout",
     "output_type": "stream",
     "text": [
      "Optimization terminated successfully.\n",
      "         Current function value: 0.444322\n",
      "         Iterations 6\n",
      "                                  coef        p-value\n",
      "intercept                    -1.511981  3.765492e-262\n",
      "first_deposit_amount_bin_WOE -0.878813   8.014617e-19\n",
      "time_spent_bin_WOE           -0.838877   9.932031e-11\n",
      "risk_tolerance_bin_WOE       -0.775073   1.777825e-07\n",
      "time_horizon_bin_WOE         -0.838410   2.426044e-04\n",
      "liquidity_needs_bin_WOE      -0.591408   9.707269e-03\n"
     ]
    },
    {
     "name": "stderr",
     "output_type": "stream",
     "text": [
      "/Users/makun/anaconda3/lib/python3.7/site-packages/ipykernel_launcher.py:6: SettingWithCopyWarning: \n",
      "A value is trying to be set on a copy of a slice from a DataFrame.\n",
      "Try using .loc[row_indexer,col_indexer] = value instead\n",
      "\n",
      "See the caveats in the documentation: http://pandas.pydata.org/pandas-docs/stable/indexing.html#indexing-view-versus-copy\n",
      "  \n"
     ]
    }
   ],
   "source": [
    "import statsmodels.api as sm\n",
    "multi_analysis2 = ['first_deposit_amount_bin_WOE', 'time_spent_bin_WOE', \\\n",
    "                      'risk_tolerance_bin_WOE', 'liquidity_needs_bin_WOE',  \\\n",
    "                      'time_horizon_bin_WOE'  ]\n",
    "X = train_data_reg[multi_analysis2]\n",
    "X['intercept'] = [1] * X.shape[0]\n",
    "y = train_data_reg['churn_flag']\n",
    "logit = sm.Logit(y, X)\n",
    "logit_result = logit.fit()\n",
    "pvalues = logit_result.pvalues\n",
    "params = logit_result.params\n",
    "fit_result = pd.concat([params,pvalues],axis=1)\n",
    "fit_result.columns = ['coef','p-value']\n",
    "print(fit_result.sort_values(by='p-value'))"
   ]
  },
  {
   "cell_type": "markdown",
   "metadata": {},
   "source": [
    "#### Remember for IV analysis we know \n",
    "- instrument \n",
    "- investment_experience \n",
    "- platform are not predictive\n",
    "\n",
    "#### Remember for logistic regression with L2 norm regularization , we see the 3 least important variables from total 8 variables are\n",
    "- investment experience\n",
    "- platform\n",
    "- instrument\n",
    "- *time horizon is somewhat important*\n",
    "\n",
    "#### Remember from P value for non-regularized logistic model, the same three variables are not important\n",
    "- investment_experience(p = 0.5)\n",
    "- instrument (p = 0.1) \n",
    "- platform  (p = 0.1) \n",
    "\n",
    "#### Remember from GBDT we confirm below two varaibles are not significant\n",
    "- investment experience\n",
    "- platform\n",
    "- *instrument some level is important to some extent, but the sample size is low, so we cannot really tell*\n",
    "\n",
    "#### Here from regression I furthur delete due to large p value\n",
    "- instrument\n",
    "\n",
    "#### I confirm all the rest variables are important and significant  \n",
    "- first_deposit_amount \n",
    "- risk_tolerance \n",
    "- time_spent_bin \n",
    "- liquidity_needs \n",
    "- time horizon\n",
    "\n",
    " "
   ]
  },
  {
   "cell_type": "code",
   "execution_count": 49,
   "metadata": {},
   "outputs": [
    {
     "name": "stdout",
     "output_type": "stream",
     "text": [
      "Optimization terminated successfully.\n",
      "         Current function value: 0.444322\n",
      "         Iterations 6\n",
      "                                  coef        p-value\n",
      "intercept                    -1.511981  3.765492e-262\n",
      "first_deposit_amount_bin_WOE -0.878813   8.014617e-19\n",
      "time_spent_bin_WOE           -0.838877   9.932031e-11\n",
      "risk_tolerance_bin_WOE       -0.775073   1.777825e-07\n",
      "time_horizon_bin_WOE         -0.838410   2.426044e-04\n",
      "liquidity_needs_bin_WOE      -0.591408   9.707269e-03\n"
     ]
    },
    {
     "name": "stderr",
     "output_type": "stream",
     "text": [
      "/Users/makun/anaconda3/lib/python3.7/site-packages/ipykernel_launcher.py:5: SettingWithCopyWarning: \n",
      "A value is trying to be set on a copy of a slice from a DataFrame.\n",
      "Try using .loc[row_indexer,col_indexer] = value instead\n",
      "\n",
      "See the caveats in the documentation: http://pandas.pydata.org/pandas-docs/stable/indexing.html#indexing-view-versus-copy\n",
      "  \"\"\"\n"
     ]
    }
   ],
   "source": [
    "import statsmodels.api as sm\n",
    "multi_analysis_final = ['first_deposit_amount_bin_WOE', 'time_spent_bin_WOE', \\\n",
    "                      'risk_tolerance_bin_WOE', 'liquidity_needs_bin_WOE','time_horizon_bin_WOE' ]\n",
    "X = train_data_reg[multi_analysis_final]\n",
    "X['intercept'] = [1] * X.shape[0]\n",
    "y = train_data_reg['churn_flag']\n",
    "logit = sm.Logit(y, X)\n",
    "logit_result = logit.fit()\n",
    "pvalues = logit_result.pvalues\n",
    "params = logit_result.params\n",
    "fit_result = pd.concat([params,pvalues],axis=1)\n",
    "fit_result.columns = ['coef','p-value']\n",
    "print(fit_result.sort_values(by='p-value'))"
   ]
  },
  {
   "cell_type": "markdown",
   "metadata": {},
   "source": [
    "### Scoring"
   ]
  },
  {
   "cell_type": "code",
   "execution_count": 50,
   "metadata": {},
   "outputs": [
    {
     "name": "stdout",
     "output_type": "stream",
     "text": [
      "{'first_deposit_amount_bin_WOE': -0.8788131703303984, 'time_spent_bin_WOE': -0.8388767682264132, 'risk_tolerance_bin_WOE': -0.7750731703165817, 'liquidity_needs_bin_WOE': -0.5914077692315493, 'time_horizon_bin_WOE': -0.8384101352009536, 'intercept': -1.511981233530129}\n",
      "Train KS = 0.2670\n"
     ]
    }
   ],
   "source": [
    "finalFeatures=multi_analysis_final\n",
    "coef_dict = params.to_dict()\n",
    "print(coef_dict)\n",
    "def Predict_LR(x, var_list, coef_dict, prob=True):\n",
    "    '''\n",
    "    :param x: WOE var\n",
    "    :param var_list: finalFeatures\n",
    "    :param coef_dict:  coef_dict list\n",
    "    :param prob: if probability is needed，prob=True. Default value is False, for returning log odds\n",
    "    :return: \n",
    "    '''\n",
    "    s = coef_dict['intercept']\n",
    "    for var in var_list:\n",
    "        s += x[var]*coef_dict[var]\n",
    "    if prob == True:\n",
    "        y = 1.0/(1+np.exp(-s))\n",
    "        return y\n",
    "    else:\n",
    "        return s\n",
    "train_data_reg['probability'] = train_data_reg.apply(lambda x: Predict_LR(x, finalFeatures, coef_dict),axis=1)\n",
    "print('Train KS = %6.4f' %KS(train_data_reg, 'probability', 'churn_flag')) \n"
   ]
  },
  {
   "cell_type": "markdown",
   "metadata": {},
   "source": [
    "#### Scoring in test dataset"
   ]
  },
  {
   "cell_type": "code",
   "execution_count": 51,
   "metadata": {},
   "outputs": [
    {
     "name": "stdout",
     "output_type": "stream",
     "text": [
      "Test KS = 0.2970\n"
     ]
    }
   ],
   "source": [
    "for pair in  [(k,v['IV']) for k,v in WOE_IV_dict.items() ]:\n",
    "    var=pair[0]\n",
    "    newVar = var+\"_WOE\"\n",
    "    test_data_reg[newVar] = test_data_reg[var].map(lambda x: WOE_IV_dict[var]['WOE'][x])\n",
    "\n",
    "\n",
    "\n",
    "test_data_reg['probability'] = test_data_reg.apply(lambda x: Predict_LR(x, finalFeatures, coef_dict),axis=1)\n",
    "print('Test KS = %6.4f' %KS(test_data_reg, 'probability', 'churn_flag'))"
   ]
  },
  {
   "cell_type": "code",
   "execution_count": 52,
   "metadata": {},
   "outputs": [],
   "source": [
    "### Calculate the KS  \n",
    "def KS_Table(df, score, target):\n",
    "    '''\n",
    "    :param df: the dataset containing probability and bad indicator\n",
    "    :param score:\n",
    "    :param target:\n",
    "    :return:\n",
    "    '''\n",
    "    total = df.groupby([score])[target].count()\n",
    "    bad = df.groupby([score])[target].sum()\n",
    "    all = pd.DataFrame({'total':total, 'bad':bad})\n",
    "    all['good'] = all['total'] - all['bad']\n",
    "    all[score] = all.index\n",
    "    all.index = range(len(all))\n",
    "    all = all.sort_values(by=score,ascending=False)\n",
    "    all.index = range(len(all))\n",
    "    all['badCumRate'] = all['bad'].cumsum() / all['bad'].sum()\n",
    "    all['goodCumRate'] = all['good'].cumsum() / all['good'].sum()\n",
    "    all['totalCumRate'] = all['total'].cumsum() / all['total'].sum() \n",
    "    all['badCum'] = all['bad'].cumsum()  \n",
    "    all['totalCum'] = all['total'].cumsum()  \n",
    "    KS = all.apply(lambda x: x.badCumRate - x.goodCumRate, axis=1)\n",
    "    all[\"ks\"] = KS\n",
    "    return all\n"
   ]
  },
  {
   "cell_type": "code",
   "execution_count": 53,
   "metadata": {},
   "outputs": [
    {
     "data": {
      "text/html": [
       "<div>\n",
       "<style scoped>\n",
       "    .dataframe tbody tr th:only-of-type {\n",
       "        vertical-align: middle;\n",
       "    }\n",
       "\n",
       "    .dataframe tbody tr th {\n",
       "        vertical-align: top;\n",
       "    }\n",
       "\n",
       "    .dataframe thead th {\n",
       "        text-align: right;\n",
       "    }\n",
       "</style>\n",
       "<table border=\"1\" class=\"dataframe\">\n",
       "  <thead>\n",
       "    <tr style=\"text-align: right;\">\n",
       "      <th></th>\n",
       "      <th>total</th>\n",
       "      <th>bad</th>\n",
       "      <th>good</th>\n",
       "      <th>probability</th>\n",
       "      <th>badCumRate</th>\n",
       "      <th>goodCumRate</th>\n",
       "      <th>totalCumRate</th>\n",
       "      <th>badCum</th>\n",
       "      <th>totalCum</th>\n",
       "      <th>ks</th>\n",
       "    </tr>\n",
       "  </thead>\n",
       "  <tbody>\n",
       "    <tr>\n",
       "      <th>337</th>\n",
       "      <td>2</td>\n",
       "      <td>1</td>\n",
       "      <td>1</td>\n",
       "      <td>0.036040</td>\n",
       "      <td>0.998586</td>\n",
       "      <td>0.99875</td>\n",
       "      <td>0.998721</td>\n",
       "      <td>706</td>\n",
       "      <td>3903</td>\n",
       "      <td>-0.000165</td>\n",
       "    </tr>\n",
       "    <tr>\n",
       "      <th>338</th>\n",
       "      <td>5</td>\n",
       "      <td>1</td>\n",
       "      <td>4</td>\n",
       "      <td>0.026446</td>\n",
       "      <td>1.000000</td>\n",
       "      <td>1.00000</td>\n",
       "      <td>1.000000</td>\n",
       "      <td>707</td>\n",
       "      <td>3908</td>\n",
       "      <td>0.000000</td>\n",
       "    </tr>\n",
       "  </tbody>\n",
       "</table>\n",
       "</div>"
      ],
      "text/plain": [
       "     total  bad  good  probability  badCumRate  goodCumRate  totalCumRate  \\\n",
       "337      2    1     1     0.036040    0.998586      0.99875      0.998721   \n",
       "338      5    1     4     0.026446    1.000000      1.00000      1.000000   \n",
       "\n",
       "     badCum  totalCum        ks  \n",
       "337     706      3903 -0.000165  \n",
       "338     707      3908  0.000000  "
      ]
     },
     "execution_count": 53,
     "metadata": {},
     "output_type": "execute_result"
    }
   ],
   "source": [
    "train_KS_table = KS_Table(train_data_reg, 'probability', 'churn_flag')\n",
    "train_KS_table[abs(train_KS_table['badCum'] -train_data_reg.churn_flag.sum())<=1 ]\n"
   ]
  },
  {
   "cell_type": "code",
   "execution_count": 54,
   "metadata": {},
   "outputs": [
    {
     "data": {
      "text/plain": [
       "0.2041293636077731"
      ]
     },
     "execution_count": 54,
     "metadata": {},
     "output_type": "execute_result"
    }
   ],
   "source": [
    "train_KS_table[train_KS_table['ks'] ==KS(train_data_reg, 'probability', 'churn_flag')]\n",
    "best_cutoff = train_KS_table[train_KS_table['ks'] ==KS(train_data_reg, 'probability', 'churn_flag')].probability.iloc[0]\n",
    "best_cutoff"
   ]
  },
  {
   "cell_type": "code",
   "execution_count": 55,
   "metadata": {},
   "outputs": [
    {
     "data": {
      "text/html": [
       "<div>\n",
       "<style scoped>\n",
       "    .dataframe tbody tr th:only-of-type {\n",
       "        vertical-align: middle;\n",
       "    }\n",
       "\n",
       "    .dataframe tbody tr th {\n",
       "        vertical-align: top;\n",
       "    }\n",
       "\n",
       "    .dataframe thead th {\n",
       "        text-align: right;\n",
       "    }\n",
       "</style>\n",
       "<table border=\"1\" class=\"dataframe\">\n",
       "  <thead>\n",
       "    <tr style=\"text-align: right;\">\n",
       "      <th></th>\n",
       "      <th>total</th>\n",
       "      <th>bad</th>\n",
       "      <th>good</th>\n",
       "      <th>probability</th>\n",
       "      <th>badCumRate</th>\n",
       "      <th>goodCumRate</th>\n",
       "      <th>totalCumRate</th>\n",
       "      <th>badCum</th>\n",
       "      <th>totalCum</th>\n",
       "      <th>ks</th>\n",
       "    </tr>\n",
       "  </thead>\n",
       "  <tbody>\n",
       "    <tr>\n",
       "      <th>163</th>\n",
       "      <td>6</td>\n",
       "      <td>3</td>\n",
       "      <td>3</td>\n",
       "      <td>0.186406</td>\n",
       "      <td>0.68</td>\n",
       "      <td>0.382994</td>\n",
       "      <td>0.436158</td>\n",
       "      <td>204</td>\n",
       "      <td>731</td>\n",
       "      <td>0.297006</td>\n",
       "    </tr>\n",
       "  </tbody>\n",
       "</table>\n",
       "</div>"
      ],
      "text/plain": [
       "     total  bad  good  probability  badCumRate  goodCumRate  totalCumRate  \\\n",
       "163      6    3     3     0.186406        0.68     0.382994      0.436158   \n",
       "\n",
       "     badCum  totalCum        ks  \n",
       "163     204       731  0.297006  "
      ]
     },
     "execution_count": 55,
     "metadata": {},
     "output_type": "execute_result"
    }
   ],
   "source": [
    "test_KS_table = KS_Table(test_data_reg, 'probability', 'churn_flag')\n",
    "test_KS_table[test_KS_table['ks'] ==KS(test_data_reg, 'probability', 'churn_flag')]\n"
   ]
  },
  {
   "cell_type": "code",
   "execution_count": 56,
   "metadata": {},
   "outputs": [
    {
     "name": "stdout",
     "output_type": "stream",
     "text": [
      "     total  bad  good  probability  badCumRate  goodCumRate  totalCumRate  \\\n",
      "144      2    0     2     0.204129    0.566667     0.321221      0.365155   \n",
      "\n",
      "     badCum  totalCum        ks  \n",
      "144     170       612  0.245446  \n"
     ]
    }
   ],
   "source": [
    "print(test_KS_table[test_KS_table['probability'] ==best_cutoff])"
   ]
  },
  {
   "cell_type": "markdown",
   "metadata": {},
   "source": [
    "### I will use the probability which has maximum seperation KS"
   ]
  },
  {
   "cell_type": "code",
   "execution_count": 57,
   "metadata": {},
   "outputs": [
    {
     "data": {
      "image/png": "[encoded data removed]",
      "text/plain": [
       "<Figure size 432x432 with 1 Axes>"
      ]
     },
     "metadata": {
      "needs_background": "light"
     },
     "output_type": "display_data"
    },
    {
     "name": "stdout",
     "output_type": "stream",
     "text": [
      "Train AUC = 0.6765\n",
      "Test AUC = 0.6866\n",
      "Train KS = 0.2670\n",
      "Test KS = 0.2970\n",
      "[[936 440]\n",
      " [130 170]]\n",
      "              precision    recall  f1-score   support\n",
      "\n",
      "           0       0.88      0.68      0.77      1376\n",
      "           1       0.28      0.57      0.37       300\n",
      "\n",
      "    accuracy                           0.66      1676\n",
      "   macro avg       0.58      0.62      0.57      1676\n",
      "weighted avg       0.77      0.66      0.70      1676\n",
      "\n"
     ]
    }
   ],
   "source": [
    "train_est = train_data_reg.probability.map(lambda x: 1 if x>best_cutoff else 0 )\n",
    "train_est_p= train_data_reg.probability  \n",
    "test_est= test_data_reg.probability.map(lambda x: 1 if x>best_cutoff  else 0 )\n",
    "test_est_p=test_data_reg.probability  \n",
    " \n",
    "fpr_test, tpr_test, th_test = metrics.roc_curve(test_target, test_est_p)\n",
    "fpr_train, tpr_train, th_train = metrics.roc_curve(train_target, train_est_p)\n",
    "plt.figure(figsize=[6,6])\n",
    "plt.plot(fpr_test, tpr_test, color='blue')#blue :test\n",
    "plt.plot(fpr_train, tpr_train, color='red')#red : train\n",
    "plt.plot([0, 1], [0, 1], color='navy', lw=1, linestyle='--')\n",
    "plt.title('ROC curve')\n",
    "plt.xlabel('False Positive Rate')\n",
    "plt.ylabel('True Positive Rate')\n",
    "plt.show()\n",
    "\n",
    "# no overfitting\n",
    "print('Train AUC = %6.4f' %metrics.auc(fpr_train, tpr_train))  \n",
    "print('Test AUC = %6.4f' %metrics.auc(fpr_test, tpr_test))  \n",
    "compare_train=pd.DataFrame({'train_target':train_target,'train_est':train_est,'train_est_p':train_est_p})\n",
    "compare_test=pd.DataFrame({'test_target':test_target,'test_est':test_est,'test_est_p':test_est_p})\n",
    "print('Train KS = %6.4f' %KS(compare_train, 'train_est_p', 'train_target')) \n",
    "print('Test KS = %6.4f' %KS(compare_test, 'test_est_p', 'test_target')) \n",
    "\n",
    "print(metrics.confusion_matrix(test_target, test_est,labels=[0,1]))  \n",
    "print(metrics.classification_report(test_target, test_est))   \n",
    " "
   ]
  },
  {
   "cell_type": "code",
   "execution_count": 58,
   "metadata": {},
   "outputs": [],
   "source": [
    "train_data_out=train_data_reg\n",
    "train_data_out['churn_predict']=train_est\n",
    "train_data_out =train_data_out[[\"churn_predict\",\"probability\"]].join(trainData[\"user_id\"])\n",
    "\n",
    "test_data_out=test_data_reg\n",
    "test_data_out['churn_predict']=test_est\n",
    "test_data_out =test_data_out[[\"churn_predict\",\"probability\"]].join(testData[\"user_id\"])\n",
    "\n",
    "\n",
    "train_data_out.to_csv('train_data_out.csv',index=False)\n",
    "test_data_out.to_csv('test_data_out.csv',index=False)"
   ]
  },
  {
   "cell_type": "code",
   "execution_count": null,
   "metadata": {},
   "outputs": [],
   "source": []
  },
  {
   "cell_type": "code",
   "execution_count": null,
   "metadata": {},
   "outputs": [],
   "source": [
    "\n"
   ]
  },
  {
   "cell_type": "code",
   "execution_count": null,
   "metadata": {},
   "outputs": [],
   "source": []
  },
  {
   "cell_type": "code",
   "execution_count": null,
   "metadata": {},
   "outputs": [],
   "source": []
  },
  {
   "cell_type": "code",
   "execution_count": null,
   "metadata": {},
   "outputs": [],
   "source": []
  },
  {
   "cell_type": "code",
   "execution_count": null,
   "metadata": {},
   "outputs": [],
   "source": []
  }
 ],
 "metadata": {
  "kernelspec": {
   "display_name": "Python 3",
   "language": "python",
   "name": "python3"
  },
  "language_info": {
   "codemirror_mode": {
    "name": "ipython",
    "version": 3
   },
   "file_extension": ".py",
   "mimetype": "text/x-python",
   "name": "python",
   "nbconvert_exporter": "python",
   "pygments_lexer": "ipython3",
   "version": "3.7.3"
  }
 },
 "nbformat": 4,
 "nbformat_minor": 2
}
